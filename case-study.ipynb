{
 "cells": [
  {
   "cell_type": "code",
   "execution_count": 107,
   "metadata": {},
   "outputs": [],
   "source": [
    "%matplotlib inline\n",
    "\n",
    "# General\n",
    "import os\n",
    "import re\n",
    "import sys\n",
    "import json\n",
    "import pathlib\n",
    "import hashlib\n",
    "import requests\n",
    "import tqdm\n",
    "import time\n",
    "\n",
    "from typing import Dict, List, Union\n",
    "\n",
    "# Data munging\n",
    "import pandas as pd\n",
    "import numpy as np\n",
    "\n",
    "from pandas import Series\n",
    "from pandas import DataFrame\n",
    "\n",
    "# Visualisation libraries\n",
    "import altair as alt\n",
    "import matplotlib.pyplot as plt\n",
    "\n",
    "# ML imports\n",
    "from sklearn.base import BaseEstimator\n",
    "from sklearn.metrics import confusion_matrix\n",
    "from sklearn.model_selection import train_test_split\n",
    "from sklearn.utils import resample\n",
    "from sklearn.preprocessing import MinMaxScaler\n",
    "from sklearn.preprocessing import StandardScaler\n",
    "from sklearn.linear_model import LogisticRegression\n",
    "from sklearn.ensemble import RandomForestClassifier\n",
    "from sklearn.ensemble import GradientBoostingClassifier\n",
    "from sklearn.decomposition import PCA"
   ]
  },
  {
   "cell_type": "markdown",
   "metadata": {},
   "source": [
    "This case study requires the following version of Python"
   ]
  },
  {
   "cell_type": "code",
   "execution_count": 3,
   "metadata": {},
   "outputs": [
    {
     "data": {
      "text/plain": [
       "'3.6.5 (default, May 11 2018, 04:00:52) \\n[GCC 8.1.0]'"
      ]
     },
     "execution_count": 3,
     "metadata": {},
     "output_type": "execute_result"
    }
   ],
   "source": [
    "sys.version"
   ]
  },
  {
   "cell_type": "markdown",
   "metadata": {},
   "source": [
    "### Project Structure\n",
    "\n",
    "This case study has been split into the following sections:\n",
    "\n",
    "1. [Project Settings](#Project-Settings)\n",
    "2. [Data Retreival](#Data-Retreival)\n",
    "3. [Exploratory Data Analysis](#Exploratory-Data-Analysis)\n",
    "4. [Modeling](#Modeling)"
   ]
  },
  {
   "cell_type": "markdown",
   "metadata": {},
   "source": [
    "### Project Settings"
   ]
  },
  {
   "cell_type": "code",
   "execution_count": 5,
   "metadata": {},
   "outputs": [],
   "source": [
    "# Directories and file paths\n",
    "ROOT_DIR = pathlib.Path('.')\n",
    "DATA_DIR = ROOT_DIR.joinpath('data')\n",
    "DATA_FILE = DATA_DIR.joinpath('covtype.data.gz')\n",
    "\n",
    "# Data related URIs\n",
    "UCI_URI = 'https://archive.ics.uci.edu/ml/machine-learning-databases/covtype/'\n",
    "\n",
    "# Target and feature mappings\n",
    "TARGET_MAPPING = {\n",
    "    1: 'Spruce/Fir',\n",
    "    2: 'Lodgepole Pine',\n",
    "    3: 'Ponderosa Pine',\n",
    "    4: 'Cottonwood/Willow',\n",
    "    5: 'Aspen',\n",
    "    6: 'Douglas-fir',\n",
    "    7: 'Krummholz'\n",
    "}\n",
    "\n",
    "WILDERNESS_MAPPING = {\n",
    "    'Wilderness_Area_0': 'Rawah Wilderness Area',\n",
    "    'Wilderness_Area_1': 'Neota Wilderness Area',\n",
    "    'Wilderness_Area_2': 'Comanche Peak Wilderness Area',\n",
    "    'Wilderness_Area_3': 'Cache la Poudre Wilderness Area'\n",
    "}\n",
    "\n",
    "SOIL_TYPE_MAPPING = {\n",
    "    'Soil_Type_1': 'Cathedral family - Rock outcrop complex, extremely stony.',\n",
    "    'Soil_Type_2': 'Vanet - Ratake families complex, very stony.',\n",
    "    'Soil_Type_3': 'Haploborolis - Rock outcrop complex, rubbly.',\n",
    "    'Soil_Type_4': 'Ratake family - Rock outcrop complex, rubbly.',\n",
    "    'Soil_Type_5': 'Vanet family - Rock outcrop complex complex, rubbly.',\n",
    "    'Soil_Type_6': 'Vanet - Wetmore families - Rock outcrop complex, stony.',\n",
    "    'Soil_Type_7': 'Gothic family.',\n",
    "    'Soil_Type_8': 'Supervisor - Limber families complex.',\n",
    "    'Soil_Type_9': 'Troutville family, very stony.',\n",
    "    'Soil_Type_10': 'Bullwark - Catamount families - Rock outcrop complex, rubbly.',\n",
    "    'Soil_Type_11': 'Bullwark - Catamount families - Rock land complex, rubbly.',\n",
    "    'Soil_Type_12': 'Legault family - Rock land complex, stony.',\n",
    "    'Soil_Type_13': 'Catamount family - Rock land - Bullwark family complex, rubbly.',\n",
    "    'Soil_Type_14': 'Pachic Argiborolis - Aquolis complex.',\n",
    "    'Soil_Type_15': 'unspecified in the USFS Soil and ELU Survey.',\n",
    "    'Soil_Type_16': 'Cryaquolis - Cryoborolis complex.',\n",
    "    'Soil_Type_17': 'Gateview family - Cryaquolis complex.',\n",
    "    'Soil_Type_18': 'Rogert family, very stony.',\n",
    "    'Soil_Type_19': 'Typic Cryaquolis - Borohemists complex.',\n",
    "    'Soil_Type_20': 'Typic Cryaquepts - Typic Cryaquolls complex.',\n",
    "    'Soil_Type_21': 'Typic Cryaquolls - Leighcan family, till substratum complex.',\n",
    "    'Soil_Type_22': 'Leighcan family, till substratum, extremely bouldery.',\n",
    "    'Soil_Type_23': 'Leighcan family, till substratum - Typic Cryaquolls complex.',\n",
    "    'Soil_Type_24': 'Leighcan family, extremely stony.',\n",
    "    'Soil_Type_25': 'Leighcan family, warm, extremely stony.',\n",
    "    'Soil_Type_26': 'Granile - Catamount families complex, very stony.',\n",
    "    'Soil_Type_27': 'Leighcan family, warm - Rock outcrop complex, extremely stony.',\n",
    "    'Soil_Type_28': 'Leighcan family - Rock outcrop complex, extremely stony.',\n",
    "    'Soil_Type_29': 'Como - Legault families complex, extremely stony.',\n",
    "    'Soil_Type_30': 'Como family - Rock land - Legault family complex, extremely stony.',\n",
    "    'Soil_Type_31': 'Leighcan - Catamount families complex, extremely stony.',\n",
    "    'Soil_Type_32': 'Catamount family - Rock outcrop - Leighcan family complex, extremely stony.',\n",
    "    'Soil_Type_33': 'Leighcan - Catamount families - Rock outcrop complex, extremely stony.',\n",
    "    'Soil_Type_34': 'Cryorthents - Rock land complex, extremely stony.',\n",
    "    'Soil_Type_35': 'Cryumbrepts - Rock outcrop - Cryaquepts complex.',\n",
    "    'Soil_Type_36': 'Bross family - Rock land - Cryumbrepts complex, extremely stony.',\n",
    "    'Soil_Type_37': 'Rock outcrop - Cryumbrepts - Cryorthents complex, extremely stony.',\n",
    "    'Soil_Type_38': 'Leighcan - Moran families - Cryaquolls complex, extremely stony.',\n",
    "    'Soil_Type_39': 'Moran family - Cryorthents - Leighcan family complex, extremely stony.',\n",
    "    'Soil_Type_40': 'Moran family - Cryorthents - Rock land complex, extremely stony.'\n",
    "}\n",
    "\n",
    "# Plotting\n",
    "pct_formatter = plt.FuncFormatter(lambda x, y: f\"{x:.0%}\")"
   ]
  },
  {
   "cell_type": "markdown",
   "metadata": {},
   "source": [
    "### Data Retreival\n",
    "\n",
    "The functions below download the cover type data set and associated information from the UCI Machine Learning Repository. These files are stored in the `DATA_DIR` directory defined in the [project settings](#Project-Settings). For each file downloaded a hash is calculated and stored in the `data/hashes.json` file. For this particular version of the notebook the hash is specified in the [Exploratory Data Analysis](#Exploratory-Data-Analysis) section below."
   ]
  },
  {
   "cell_type": "code",
   "execution_count": 4,
   "metadata": {},
   "outputs": [
    {
     "name": "stderr",
     "output_type": "stream",
     "text": [
      "100%|██████████| 3/3 [00:12<00:00,  4.32s/it]\n"
     ]
    }
   ],
   "source": [
    "def md5_hash(content: bytes) -> str:\n",
    "    \"\"\"Helper function to generate an md5 hash given some content.\n",
    "    \n",
    "    Args:\n",
    "        content (bytes): Bytes content to be hashed\n",
    "        \n",
    "    Returns:\n",
    "        The hexdigest of a md5 hash\n",
    "    \"\"\"\n",
    "    md5 = hashlib.md5()\n",
    "    md5.update(resp.content)\n",
    "    return md5.hexdigest()\n",
    "\n",
    "def download_data() -> Dict:\n",
    "    \"\"\"Fetch the data from the uci repository.\n",
    "    \n",
    "    The repository consists of the actual dataset as well as some descriptive information.\n",
    "    \n",
    "    Returns:\n",
    "        A dict of file hashes\n",
    "    \"\"\"\n",
    "    resp = requests.get(UCI_URI)\n",
    "    resp.raise_for_status()\n",
    "    \n",
    "    pattern = re.compile('href=\"([\\w.]+)\"')\n",
    "    matches = pattern.findall(resp.text)\n",
    "    \n",
    "    hashes = {}\n",
    "    for match in tqdm.tqdm(matches):\n",
    "        try:\n",
    "            # Fetch the relevant file\n",
    "            resp = requests.get(f\"{UCI_URI}{match}\")\n",
    "            resp.raise_for_status()\n",
    "            \n",
    "            hashes[match] = md5_hash(resp.content)\n",
    "\n",
    "            # Remove the file if it already exists\n",
    "            filepath = DATA_DIR.joinpath(match)\n",
    "            if filepath.exists():\n",
    "                os.remove(filepath.absolute())\n",
    "                \n",
    "            # Write the file disk\n",
    "            with open(filepath.absolute(), 'wb') as f:\n",
    "                f.write(resp.content)\n",
    "        except:\n",
    "            continue\n",
    "            \n",
    "    # Save the file hashes\n",
    "    filepath = DATA_DIR.joinpath('hashes.json')\n",
    "        \n",
    "    with open(filepath.absolute(), 'w') as f:\n",
    "        json.dumps(hashes, indent=4)\n",
    "            \n",
    "    return hashes\n",
    "\n",
    "hashes = download_data()"
   ]
  },
  {
   "cell_type": "markdown",
   "metadata": {},
   "source": [
    "The files downloaded include the actual data set as well as a description of the data set. The files we are interested in are the `covtype.info` and `covtype.data.gz`.\n",
    "\n",
    "The `covtype.info` file contains detailed information on the data set including the sources of the data, past usage, the problem description and schema. To read the contents of the `covtype.info` file try opening it in a text editor or just run `%cat data/covtype.info` in a notebook cell.\n",
    "\n",
    "The actual data is available in a gzipped csv file within `covtype.data.gz`."
   ]
  },
  {
   "cell_type": "code",
   "execution_count": 5,
   "metadata": {},
   "outputs": [],
   "source": [
    "# %cat data/covtype.info | head -n 20"
   ]
  },
  {
   "cell_type": "code",
   "execution_count": 6,
   "metadata": {},
   "outputs": [
    {
     "data": {
      "text/plain": [
       "{}"
      ]
     },
     "execution_count": 6,
     "metadata": {},
     "output_type": "execute_result"
    }
   ],
   "source": [
    "# The download function produces a list of files and their md5 hashes\n",
    "hashes"
   ]
  },
  {
   "cell_type": "markdown",
   "metadata": {},
   "source": [
    "### Exploratory Data Analysis\n",
    "\n",
    "Before any modelling can begin we should conduct some EDA on the dataset.\n",
    "\n",
    "This analysis makes use of the `covtype.data.gz` file with the following hash **da67cb1aec8c1b2a40a1d6522934aed4**.\n",
    "\n",
    "The data set contains 581,012 samples, 54 features and a single column for the target values. \n",
    "\n",
    "Details for each feature can be seen below.\n",
    "\n",
    "- Elevation (quantitative)\n",
    "    - Elevation in meters\n",
    "- Aspect (quantitative)\n",
    "    - Aspect in degrees azimuth\n",
    "- Slope (quantitative)\n",
    "    - Slope in degrees\n",
    "- Horizontal_Distance_To_Hydrology (quantitative)\n",
    "    - Horz Dist to nearest surface water features\n",
    "- Vertical_Distance_To_Hydrology (quantitative)\n",
    "    - Vert Dist to nearest surface water features\n",
    "- Horizontal_Distance_To_Roadways (quantitative)\n",
    "    - Horz Dist to nearest roadway\n",
    "- Hillshade_9am (quantitative)\n",
    "    - Hillshade index at 9am, summer solstice\n",
    "- Hillshade_Noon (quantitative)\n",
    "    - Hillshade index at noon, summer soltice\n",
    "- Hillshade_3pm (quantitative)\n",
    "    - Hillshade index at 3pm, summer solstice\n",
    "- Horizontal_Distance_To_Fire_Points (quantitative)\n",
    "    - Horz Dist to nearest wildfire ignition points\n",
    "- Wilderness_Area (qualitative) - Four binary features\n",
    "    - Wilderness area designation\n",
    "- Soil_Type (qualitative) - Fourty binary features\n",
    "    - Soil Type designation\n",
    "- Cover_Type (integer)\n",
    "    - Forest Cover Type designation\n",
    "    \n",
    "    \n",
    "Our target variable for this data set is contained in the Cover_Type column. This field contains categorical data which map to the following cover types:\n",
    "\n",
    "1. Spruce/Fir\n",
    "2. Lodgepole Pine\n",
    "3. Ponderosa Pine\n",
    "4. Cottonwood/Willow\n",
    "5. Aspen\n",
    "6. Douglas-fir\n",
    "7. Krummholz\n",
    "\n",
    "This section is broken down into the following sub sections:\n",
    "\n",
    "1. Data loading\n",
    "2. Class imbalance"
   ]
  },
  {
   "cell_type": "code",
   "execution_count": 7,
   "metadata": {},
   "outputs": [],
   "source": [
    "# The data set does not contain headers so we must first generate them\n",
    "names = [    \n",
    "    'Elevation',\n",
    "    'Aspect',\n",
    "    'Slope',\n",
    "    'Horizontal_Distance_To_Hydrology',\n",
    "    'Vertical_Distance_To_Hydrology',\n",
    "    'Horizontal_Distance_To_Roadways',\n",
    "    'Hillshade_9am',\n",
    "    'Hillshade_Noon',\n",
    "    'Hillshade_3pm',\n",
    "    'Horizontal_Distance_To_Fire_Points'\n",
    "]\n",
    "\n",
    "# Create a copy of all the feature names\n",
    "quantitative_features_names = [feature for feature in names]\n",
    "wilderness_features = [f\"Wilderness_Area_{i}\" for i in range(4)]\n",
    "soil_type_features = [f\"Soil_Type_{i}\" for i in range(40)]\n",
    "\n",
    "names += wilderness_features\n",
    "names += soil_type_features\n",
    "\n",
    "# Create a copy of all the feature names\n",
    "features_names = [feature for feature in names]\n",
    "\n",
    "names.append('Cover_Type')\n",
    "\n",
    "# Read the csv file using the pandas read_csv function\n",
    "covertype = pd.read_csv(\n",
    "    DATA_FILE,\n",
    "    names=names\n",
    ")\n",
    "\n",
    "# Add the wilderness area names, soil type names and cover type names for analysis later\n",
    "covertype['Wilderness_Area_Name'] = (\n",
    "    covertype[wilderness_features]\n",
    "    .idxmax(axis=1)\n",
    "    .map(WILDERNESS_MAPPING)\n",
    ")\n",
    "\n",
    "covertype['Soil_Type_Name'] = (\n",
    "    covertype[soil_type_features]\n",
    "    .idxmax(axis=1)\n",
    "    .map(SOIL_TYPE_MAPPING)\n",
    ")\n",
    "\n",
    "covertype['Cover_Type_Name'] = (\n",
    "    covertype.Cover_Type\n",
    "    .map(TARGET_MAPPING)\n",
    ")"
   ]
  },
  {
   "cell_type": "markdown",
   "metadata": {},
   "source": [
    "By examining the parsed data frame we can confirm that the data set contains 581,012 samples and that each of the fields has been parsed as an `int64` dtype. Although the Wilderness_Area and Soil_Type features are binary features, representing them as `int64` data is sufficient as they are stored in a one-hot-encoded fashion. Later in this notebook we will convert all the dtypes to `float64` as scitkit-learn makes the assumption that all data is floating point data.\n",
    "\n",
    "Another important take away is that none of the features have any missing values which is confirmed under Section 9 of the `covertype.info` file."
   ]
  },
  {
   "cell_type": "code",
   "execution_count": 8,
   "metadata": {},
   "outputs": [
    {
     "name": "stdout",
     "output_type": "stream",
     "text": [
      "<class 'pandas.core.frame.DataFrame'>\n",
      "RangeIndex: 581012 entries, 0 to 581011\n",
      "Data columns (total 58 columns):\n",
      "Elevation                             581012 non-null int64\n",
      "Aspect                                581012 non-null int64\n",
      "Slope                                 581012 non-null int64\n",
      "Horizontal_Distance_To_Hydrology      581012 non-null int64\n",
      "Vertical_Distance_To_Hydrology        581012 non-null int64\n",
      "Horizontal_Distance_To_Roadways       581012 non-null int64\n",
      "Hillshade_9am                         581012 non-null int64\n",
      "Hillshade_Noon                        581012 non-null int64\n",
      "Hillshade_3pm                         581012 non-null int64\n",
      "Horizontal_Distance_To_Fire_Points    581012 non-null int64\n",
      "Wilderness_Area_0                     581012 non-null int64\n",
      "Wilderness_Area_1                     581012 non-null int64\n",
      "Wilderness_Area_2                     581012 non-null int64\n",
      "Wilderness_Area_3                     581012 non-null int64\n",
      "Soil_Type_0                           581012 non-null int64\n",
      "Soil_Type_1                           581012 non-null int64\n",
      "Soil_Type_2                           581012 non-null int64\n",
      "Soil_Type_3                           581012 non-null int64\n",
      "Soil_Type_4                           581012 non-null int64\n",
      "Soil_Type_5                           581012 non-null int64\n",
      "Soil_Type_6                           581012 non-null int64\n",
      "Soil_Type_7                           581012 non-null int64\n",
      "Soil_Type_8                           581012 non-null int64\n",
      "Soil_Type_9                           581012 non-null int64\n",
      "Soil_Type_10                          581012 non-null int64\n",
      "Soil_Type_11                          581012 non-null int64\n",
      "Soil_Type_12                          581012 non-null int64\n",
      "Soil_Type_13                          581012 non-null int64\n",
      "Soil_Type_14                          581012 non-null int64\n",
      "Soil_Type_15                          581012 non-null int64\n",
      "Soil_Type_16                          581012 non-null int64\n",
      "Soil_Type_17                          581012 non-null int64\n",
      "Soil_Type_18                          581012 non-null int64\n",
      "Soil_Type_19                          581012 non-null int64\n",
      "Soil_Type_20                          581012 non-null int64\n",
      "Soil_Type_21                          581012 non-null int64\n",
      "Soil_Type_22                          581012 non-null int64\n",
      "Soil_Type_23                          581012 non-null int64\n",
      "Soil_Type_24                          581012 non-null int64\n",
      "Soil_Type_25                          581012 non-null int64\n",
      "Soil_Type_26                          581012 non-null int64\n",
      "Soil_Type_27                          581012 non-null int64\n",
      "Soil_Type_28                          581012 non-null int64\n",
      "Soil_Type_29                          581012 non-null int64\n",
      "Soil_Type_30                          581012 non-null int64\n",
      "Soil_Type_31                          581012 non-null int64\n",
      "Soil_Type_32                          581012 non-null int64\n",
      "Soil_Type_33                          581012 non-null int64\n",
      "Soil_Type_34                          581012 non-null int64\n",
      "Soil_Type_35                          581012 non-null int64\n",
      "Soil_Type_36                          581012 non-null int64\n",
      "Soil_Type_37                          581012 non-null int64\n",
      "Soil_Type_38                          581012 non-null int64\n",
      "Soil_Type_39                          581012 non-null int64\n",
      "Cover_Type                            581012 non-null int64\n",
      "Wilderness_Area_Name                  581012 non-null object\n",
      "Soil_Type_Name                        577981 non-null object\n",
      "Cover_Type_Name                       581012 non-null object\n",
      "dtypes: int64(55), object(3)\n",
      "memory usage: 257.1+ MB\n"
     ]
    }
   ],
   "source": [
    "covertype.info()"
   ]
  },
  {
   "cell_type": "code",
   "execution_count": 9,
   "metadata": {},
   "outputs": [
    {
     "name": "stdout",
     "output_type": "stream",
     "text": [
      "<class 'pandas.core.frame.DataFrame'>\n",
      "RangeIndex: 581012 entries, 0 to 581011\n",
      "Data columns (total 58 columns):\n",
      "Elevation                             581012 non-null float64\n",
      "Aspect                                581012 non-null float64\n",
      "Slope                                 581012 non-null float64\n",
      "Horizontal_Distance_To_Hydrology      581012 non-null float64\n",
      "Vertical_Distance_To_Hydrology        581012 non-null float64\n",
      "Horizontal_Distance_To_Roadways       581012 non-null float64\n",
      "Hillshade_9am                         581012 non-null float64\n",
      "Hillshade_Noon                        581012 non-null float64\n",
      "Hillshade_3pm                         581012 non-null float64\n",
      "Horizontal_Distance_To_Fire_Points    581012 non-null float64\n",
      "Wilderness_Area_0                     581012 non-null float64\n",
      "Wilderness_Area_1                     581012 non-null float64\n",
      "Wilderness_Area_2                     581012 non-null float64\n",
      "Wilderness_Area_3                     581012 non-null float64\n",
      "Soil_Type_0                           581012 non-null float64\n",
      "Soil_Type_1                           581012 non-null float64\n",
      "Soil_Type_2                           581012 non-null float64\n",
      "Soil_Type_3                           581012 non-null float64\n",
      "Soil_Type_4                           581012 non-null float64\n",
      "Soil_Type_5                           581012 non-null float64\n",
      "Soil_Type_6                           581012 non-null float64\n",
      "Soil_Type_7                           581012 non-null float64\n",
      "Soil_Type_8                           581012 non-null float64\n",
      "Soil_Type_9                           581012 non-null float64\n",
      "Soil_Type_10                          581012 non-null float64\n",
      "Soil_Type_11                          581012 non-null float64\n",
      "Soil_Type_12                          581012 non-null float64\n",
      "Soil_Type_13                          581012 non-null float64\n",
      "Soil_Type_14                          581012 non-null float64\n",
      "Soil_Type_15                          581012 non-null float64\n",
      "Soil_Type_16                          581012 non-null float64\n",
      "Soil_Type_17                          581012 non-null float64\n",
      "Soil_Type_18                          581012 non-null float64\n",
      "Soil_Type_19                          581012 non-null float64\n",
      "Soil_Type_20                          581012 non-null float64\n",
      "Soil_Type_21                          581012 non-null float64\n",
      "Soil_Type_22                          581012 non-null float64\n",
      "Soil_Type_23                          581012 non-null float64\n",
      "Soil_Type_24                          581012 non-null float64\n",
      "Soil_Type_25                          581012 non-null float64\n",
      "Soil_Type_26                          581012 non-null float64\n",
      "Soil_Type_27                          581012 non-null float64\n",
      "Soil_Type_28                          581012 non-null float64\n",
      "Soil_Type_29                          581012 non-null float64\n",
      "Soil_Type_30                          581012 non-null float64\n",
      "Soil_Type_31                          581012 non-null float64\n",
      "Soil_Type_32                          581012 non-null float64\n",
      "Soil_Type_33                          581012 non-null float64\n",
      "Soil_Type_34                          581012 non-null float64\n",
      "Soil_Type_35                          581012 non-null float64\n",
      "Soil_Type_36                          581012 non-null float64\n",
      "Soil_Type_37                          581012 non-null float64\n",
      "Soil_Type_38                          581012 non-null float64\n",
      "Soil_Type_39                          581012 non-null float64\n",
      "Cover_Type                            581012 non-null int64\n",
      "Wilderness_Area_Name                  581012 non-null object\n",
      "Soil_Type_Name                        577981 non-null object\n",
      "Cover_Type_Name                       581012 non-null object\n",
      "dtypes: float64(54), int64(1), object(3)\n",
      "memory usage: 257.1+ MB\n"
     ]
    }
   ],
   "source": [
    "covertype[features_names] = covertype[features_names].astype(float)\n",
    "covertype.info()"
   ]
  },
  {
   "cell_type": "markdown",
   "metadata": {},
   "source": [
    "### Class Distribution\n",
    "\n",
    "Below I examine the class distribution of the target variable. The data set is clearly imbalanced wh0ch is something that should be taken into account during modelling depending on what model is chosen.\n",
    "\n",
    "Specifically the Lodgepole Pine and Spruce/Fir cover types make up the majority of the data set, cumulatively accounting for 85% of the samples."
   ]
  },
  {
   "cell_type": "code",
   "execution_count": 10,
   "metadata": {},
   "outputs": [],
   "source": [
    "class_distribution = covertype['Cover_Type'].value_counts(True)\n",
    "class_distribution_named = Series(class_distribution.values, index=class_distribution.index.map(TARGET_MAPPING))"
   ]
  },
  {
   "cell_type": "code",
   "execution_count": 11,
   "metadata": {},
   "outputs": [
    {
     "data": {
      "text/plain": [
       "2    283301\n",
       "1    211840\n",
       "3     35754\n",
       "7     20510\n",
       "6     17367\n",
       "5      9493\n",
       "4      2747\n",
       "Name: Cover_Type, dtype: int64"
      ]
     },
     "execution_count": 11,
     "metadata": {},
     "output_type": "execute_result"
    }
   ],
   "source": [
    "covertype['Cover_Type'].value_counts()"
   ]
  },
  {
   "cell_type": "code",
   "execution_count": 12,
   "metadata": {},
   "outputs": [
    {
     "data": {
      "text/plain": [
       "Lodgepole Pine       48.8%\n",
       "Spruce/Fir           36.5%\n",
       "Ponderosa Pine        6.2%\n",
       "Krummholz             3.5%\n",
       "Douglas-fir           3.0%\n",
       "Aspen                 1.6%\n",
       "Cottonwood/Willow     0.5%\n",
       "dtype: object"
      ]
     },
     "execution_count": 12,
     "metadata": {},
     "output_type": "execute_result"
    }
   ],
   "source": [
    "# Class distribution percentage\n",
    "class_distribution_named.apply(lambda x: f\"{x:.1%}\")"
   ]
  },
  {
   "cell_type": "code",
   "execution_count": 13,
   "metadata": {},
   "outputs": [
    {
     "data": {
      "text/plain": [
       "Lodgepole Pine        48.8%\n",
       "Spruce/Fir            85.2%\n",
       "Ponderosa Pine        91.4%\n",
       "Krummholz             94.9%\n",
       "Douglas-fir           97.9%\n",
       "Aspen                 99.5%\n",
       "Cottonwood/Willow    100.0%\n",
       "dtype: object"
      ]
     },
     "execution_count": 13,
     "metadata": {},
     "output_type": "execute_result"
    }
   ],
   "source": [
    "# Cumulative class distribution cumulative percentage\n",
    "(class_distribution_named\n",
    "    .cumsum()\n",
    "    .apply(lambda x: f\"{x:.1%}\")\n",
    ")"
   ]
  },
  {
   "cell_type": "code",
   "execution_count": 14,
   "metadata": {},
   "outputs": [
    {
     "data": {
      "image/png": "[encoded data removed]",
      "text/plain": [
       "<Figure size 576x360 with 1 Axes>"
      ]
     },
     "metadata": {},
     "output_type": "display_data"
    }
   ],
   "source": [
    "fig, ax = plt.subplots(figsize=(8, 5))\n",
    "\n",
    "x = class_distribution_named.index.values\n",
    "y = class_distribution.values\n",
    "\n",
    "ax.barh(x, y)\n",
    "ax.set_xlim(0, 1)\n",
    "\n",
    "for spine in ['top', 'right']:\n",
    "    ax.spines[spine].set_visible(False)\n",
    "\n",
    "ax.xaxis.set_major_formatter(pct_formatter)\n",
    "ax.set_ylabel('Cover type')\n",
    "ax.set_xlabel('% of samples')\n",
    "ax.set_title('Class distribution by cover type')\n",
    "plt.show()"
   ]
  },
  {
   "cell_type": "markdown",
   "metadata": {},
   "source": [
    "## Wilderness Areas and Soil Types\n",
    "\n",
    "The following section looks at the wilderness area and soil types in more detail. Both these sets of features are provided as one hot encoded binary features. This means that each feature is a binary variable which either indicates a sample is of the specific feature or is not. For example, the wilderness area 1 (Wilderness_Area_0 in the data set) refers to the Rawah Wilderness Area in North America. A given sample will either be part of this area or not. In this next section I hope to understand more about the cover types based on the wilderness area and soil type. Some of the questions we may be able to answer include:\n",
    "\n",
    "1. Are there cover types unique to certain wilderness areas?\n",
    "1. Are there cover types which only grow or thrive in a particular soil type?\n",
    "\n",
    "In order to achieve the above I have decided to summarize the wilderness area and soil type features by cover type. This summarised data is then normalized so that each value gives the percentage by cover type and wilderness/soil type. This way it will be more meaningful as we have already seen above Spruce/Fir and Lodgepole Pine trees make up the majority of the data set. \n",
    "\n",
    "Given this, for each set of features (wilderness area and soil type) I have produced two heatmaps. The first heatmap shows the distribution of trees by wilderness area/soil type. Looking at the wilderness area section below we can see that Lodgepole Pine and Spruce/Fir trees make up the majority of cover types in all the wilderness areas except the Cache la Poudre wilderness area. The Cache la Poudre area is mostly covered by Ponderosa Pine and Douglas-fir trees. \n",
    "\n",
    "The second heatmap in the set shows the distribution of cover type over the wilderness area/soil type. If we examine the wilderness area section immediately the Cottonwood/Willow cover types stand out as they can only be found in the Cache la Poudre wilderness area.\n",
    "\n",
    "Examining the two charts for soil types we can also see similar seperations. For example if we look at the second heatmap in the soil type section we can see that approximately 51% of the Douglas-fir cover type can be found on land classified as soil type 9. Looking at the `covtype.info` file we can see that soil type 9 refers to the `Troutville family, very stony` soil type.\n",
    "\n",
    "So far it seems as if these features provide useful information in seperating the cover types."
   ]
  },
  {
   "cell_type": "code",
   "execution_count": 15,
   "metadata": {},
   "outputs": [
    {
     "data": {
      "application/vnd.vegalite.v2+json": {
       "$schema": "https://vega.github.io/schema/vega-lite/v2.4.3.json",
       "config": {
        "view": {
         "height": 300,
         "width": 400
        }
       },
       "vconcat": [
        {
         "data": {
          "values": [
           {
            "Cover_Type_Name": "Aspen",
            "Distribution": 0.014497921747266062,
            "Wilderness_Type": "Rawah Wilderness Area"
           },
           {
            "Cover_Type_Name": "Cottonwood/Willow",
            "Distribution": 0,
            "Wilderness_Type": "Rawah Wilderness Area"
           },
           {
            "Cover_Type_Name": "Douglas-fir",
            "Distribution": 0,
            "Wilderness_Type": "Rawah Wilderness Area"
           },
           {
            "Cover_Type_Name": "Krummholz",
            "Distribution": 0.01955934906977101,
            "Wilderness_Type": "Rawah Wilderness Area"
           },
           {
            "Cover_Type_Name": "Lodgepole Pine",
            "Distribution": 0.5605799168698906,
            "Wilderness_Type": "Rawah Wilderness Area"
           },
           {
            "Cover_Type_Name": "Ponderosa Pine",
            "Distribution": 0,
            "Wilderness_Type": "Rawah Wilderness Area"
           },
           {
            "Cover_Type_Name": "Spruce/Fir",
            "Distribution": 0.4053628123130723,
            "Wilderness_Type": "Rawah Wilderness Area"
           },
           {
            "Cover_Type_Name": "Aspen",
            "Distribution": 0,
            "Wilderness_Type": "Neota Wilderness Area"
           },
           {
            "Cover_Type_Name": "Cottonwood/Willow",
            "Distribution": 0,
            "Wilderness_Type": "Neota Wilderness Area"
           },
           {
            "Cover_Type_Name": "Douglas-fir",
            "Distribution": 0,
            "Wilderness_Type": "Neota Wilderness Area"
           },
           {
            "Cover_Type_Name": "Krummholz",
            "Distribution": 0.07709811270244947,
            "Wilderness_Type": "Neota Wilderness Area"
           },
           {
            "Cover_Type_Name": "Lodgepole Pine",
            "Distribution": 0.3006625619060367,
            "Wilderness_Type": "Neota Wilderness Area"
           },
           {
            "Cover_Type_Name": "Ponderosa Pine",
            "Distribution": 0,
            "Wilderness_Type": "Neota Wilderness Area"
           },
           {
            "Cover_Type_Name": "Spruce/Fir",
            "Distribution": 0.6222393253915138,
            "Wilderness_Type": "Neota Wilderness Area"
           },
           {
            "Cover_Type_Name": "Aspen",
            "Distribution": 0.022544639333133356,
            "Wilderness_Type": "Comanche Peak Wilderness Area"
           },
           {
            "Cover_Type_Name": "Cottonwood/Willow",
            "Distribution": 0,
            "Wilderness_Type": "Comanche Peak Wilderness Area"
           },
           {
            "Cover_Type_Name": "Douglas-fir",
            "Distribution": 0.03009898801724002,
            "Wilderness_Type": "Comanche Peak Wilderness Area"
           },
           {
            "Cover_Type_Name": "Krummholz",
            "Distribution": 0.05172400183135726,
            "Wilderness_Type": "Comanche Peak Wilderness Area"
           },
           {
            "Cover_Type_Name": "Lodgepole Pine",
            "Distribution": 0.4937283907737484,
            "Wilderness_Type": "Comanche Peak Wilderness Area"
           },
           {
            "Cover_Type_Name": "Ponderosa Pine",
            "Distribution": 0.05644053614562448,
            "Wilderness_Type": "Comanche Peak Wilderness Area"
           },
           {
            "Cover_Type_Name": "Spruce/Fir",
            "Distribution": 0.34546344389889644,
            "Wilderness_Type": "Comanche Peak Wilderness Area"
           },
           {
            "Cover_Type_Name": "Aspen",
            "Distribution": 0,
            "Wilderness_Type": "Cache la Poudre Wilderness Area"
           },
           {
            "Cover_Type_Name": "Cottonwood/Willow",
            "Distribution": 0.07430750919714348,
            "Wilderness_Type": "Cache la Poudre Wilderness Area"
           },
           {
            "Cover_Type_Name": "Douglas-fir",
            "Distribution": 0.26349816057130493,
            "Wilderness_Type": "Cache la Poudre Wilderness Area"
           },
           {
            "Cover_Type_Name": "Krummholz",
            "Distribution": 0,
            "Wilderness_Type": "Cache la Poudre Wilderness Area"
           },
           {
            "Cover_Type_Name": "Lodgepole Pine",
            "Distribution": 0.08185457693140014,
            "Wilderness_Type": "Cache la Poudre Wilderness Area"
           },
           {
            "Cover_Type_Name": "Ponderosa Pine",
            "Distribution": 0.5803397533001515,
            "Wilderness_Type": "Cache la Poudre Wilderness Area"
           },
           {
            "Cover_Type_Name": "Spruce/Fir",
            "Distribution": 0,
            "Wilderness_Type": "Cache la Poudre Wilderness Area"
           }
          ]
         },
         "encoding": {
          "color": {
           "field": "Distribution",
           "type": "quantitative"
          },
          "tooltip": {
           "field": "Distribution",
           "type": "quantitative"
          },
          "x": {
           "field": "Wilderness_Type",
           "type": "ordinal"
          },
          "y": {
           "field": "Cover_Type_Name",
           "type": "ordinal"
          }
         },
         "mark": "rect"
        },
        {
         "data": {
          "values": [
           {
            "Cover_Type_Name": "Aspen",
            "Distribution": 0.398293479405878,
            "Wilderness_Type": "Rawah Wilderness Area"
           },
           {
            "Cover_Type_Name": "Cottonwood/Willow",
            "Distribution": 0,
            "Wilderness_Type": "Rawah Wilderness Area"
           },
           {
            "Cover_Type_Name": "Douglas-fir",
            "Distribution": 0,
            "Wilderness_Type": "Rawah Wilderness Area"
           },
           {
            "Cover_Type_Name": "Krummholz",
            "Distribution": 0.24870794734275964,
            "Wilderness_Type": "Rawah Wilderness Area"
           },
           {
            "Cover_Type_Name": "Lodgepole Pine",
            "Distribution": 0.5160483019826968,
            "Wilderness_Type": "Rawah Wilderness Area"
           },
           {
            "Cover_Type_Name": "Ponderosa Pine",
            "Distribution": 0,
            "Wilderness_Type": "Rawah Wilderness Area"
           },
           {
            "Cover_Type_Name": "Spruce/Fir",
            "Distribution": 0.49904172960725074,
            "Wilderness_Type": "Rawah Wilderness Area"
           },
           {
            "Cover_Type_Name": "Aspen",
            "Distribution": 0,
            "Wilderness_Type": "Neota Wilderness Area"
           },
           {
            "Cover_Type_Name": "Cottonwood/Willow",
            "Distribution": 0,
            "Wilderness_Type": "Neota Wilderness Area"
           },
           {
            "Cover_Type_Name": "Douglas-fir",
            "Distribution": 0,
            "Wilderness_Type": "Neota Wilderness Area"
           },
           {
            "Cover_Type_Name": "Krummholz",
            "Distribution": 0.11233544612384203,
            "Wilderness_Type": "Neota Wilderness Area"
           },
           {
            "Cover_Type_Name": "Lodgepole Pine",
            "Distribution": 0.03171538399087896,
            "Wilderness_Type": "Neota Wilderness Area"
           },
           {
            "Cover_Type_Name": "Ponderosa Pine",
            "Distribution": 0,
            "Wilderness_Type": "Neota Wilderness Area"
           },
           {
            "Cover_Type_Name": "Spruce/Fir",
            "Distribution": 0.08777851208459214,
            "Wilderness_Type": "Neota Wilderness Area"
           },
           {
            "Cover_Type_Name": "Aspen",
            "Distribution": 0.601706520594122,
            "Wilderness_Type": "Comanche Peak Wilderness Area"
           },
           {
            "Cover_Type_Name": "Cottonwood/Willow",
            "Distribution": 0,
            "Wilderness_Type": "Comanche Peak Wilderness Area"
           },
           {
            "Cover_Type_Name": "Douglas-fir",
            "Distribution": 0.43910865434444635,
            "Wilderness_Type": "Comanche Peak Wilderness Area"
           },
           {
            "Cover_Type_Name": "Krummholz",
            "Distribution": 0.6389566065333984,
            "Wilderness_Type": "Comanche Peak Wilderness Area"
           },
           {
            "Cover_Type_Name": "Lodgepole Pine",
            "Distribution": 0.44155509511085383,
            "Wilderness_Type": "Comanche Peak Wilderness Area"
           },
           {
            "Cover_Type_Name": "Ponderosa Pine",
            "Distribution": 0.3999552497622644,
            "Wilderness_Type": "Comanche Peak Wilderness Area"
           },
           {
            "Cover_Type_Name": "Spruce/Fir",
            "Distribution": 0.4131797583081571,
            "Wilderness_Type": "Comanche Peak Wilderness Area"
           },
           {
            "Cover_Type_Name": "Aspen",
            "Distribution": 0,
            "Wilderness_Type": "Cache la Poudre Wilderness Area"
           },
           {
            "Cover_Type_Name": "Cottonwood/Willow",
            "Distribution": 1,
            "Wilderness_Type": "Cache la Poudre Wilderness Area"
           },
           {
            "Cover_Type_Name": "Douglas-fir",
            "Distribution": 0.5608913456555537,
            "Wilderness_Type": "Cache la Poudre Wilderness Area"
           },
           {
            "Cover_Type_Name": "Krummholz",
            "Distribution": 0,
            "Wilderness_Type": "Cache la Poudre Wilderness Area"
           },
           {
            "Cover_Type_Name": "Lodgepole Pine",
            "Distribution": 0.010681218915570365,
            "Wilderness_Type": "Cache la Poudre Wilderness Area"
           },
           {
            "Cover_Type_Name": "Ponderosa Pine",
            "Distribution": 0.6000447502377356,
            "Wilderness_Type": "Cache la Poudre Wilderness Area"
           },
           {
            "Cover_Type_Name": "Spruce/Fir",
            "Distribution": 0,
            "Wilderness_Type": "Cache la Poudre Wilderness Area"
           }
          ]
         },
         "encoding": {
          "color": {
           "field": "Distribution",
           "type": "quantitative"
          },
          "tooltip": {
           "field": "Distribution",
           "type": "quantitative"
          },
          "x": {
           "field": "Wilderness_Type",
           "type": "ordinal"
          },
          "y": {
           "field": "Cover_Type_Name",
           "type": "ordinal"
          }
         },
         "mark": "rect"
        }
       ]
      },
      "image/png": "[encoded data removed]",
      "text/plain": [
       "<VegaLite 2 object>\n",
       "\n",
       "If you see this message, it means the renderer has not been properly enabled\n",
       "for the frontend that you are using. For more information, see\n",
       "https://altair-viz.github.io/user_guide/troubleshooting.html\n"
      ]
     },
     "execution_count": 15,
     "metadata": {},
     "output_type": "execute_result"
    }
   ],
   "source": [
    "group = covertype.groupby('Cover_Type_Name')\n",
    "wilderness_area = group[wilderness_features].sum()\n",
    "wilderness_area.columns = wilderness_area.columns.map(WILDERNESS_MAPPING)\n",
    "\n",
    "cover_type_by_wilderness_area = wilderness_area.divide(wilderness_area.sum(axis=0), axis=1)\n",
    "wilderness_area_by_cover_type = wilderness_area.divide(wilderness_area.sum(axis=1), axis=0)\n",
    "\n",
    "def prepare_frame_for_charting(frame: DataFrame) -> DataFrame:\n",
    "    \"\"\"Prepare the given data frame for plotting\n",
    "    Args:\n",
    "        frame (DataFrame): \n",
    "    \n",
    "    Returns:\n",
    "        A DataFrame to be plotted\n",
    "    \"\"\"\n",
    "    return (\n",
    "        frame\n",
    "            .unstack()\n",
    "            .reset_index()\n",
    "            .rename(columns={'level_0': 'Wilderness_Type', 0: 'Distribution'})\n",
    "    )\n",
    "\n",
    "# Plot the data\n",
    "cover_type_by_wilderness_area_chart = (\n",
    "    alt\n",
    "        .Chart(prepare_frame_for_charting(cover_type_by_wilderness_area))\n",
    "        .mark_rect()\n",
    "        .encode(\n",
    "            x='Wilderness_Type:O',\n",
    "            y='Cover_Type_Name:O',\n",
    "            color='Distribution:Q',\n",
    "            tooltip='Distribution'\n",
    "        )\n",
    ")\n",
    "\n",
    "wilderness_area_by_cover_type_chart = (\n",
    "    alt\n",
    "        .Chart(prepare_frame_for_charting(wilderness_area_by_cover_type))\n",
    "        .mark_rect()\n",
    "        .encode(\n",
    "            x='Wilderness_Type:O',\n",
    "            y='Cover_Type_Name:O',\n",
    "            color='Distribution:Q',\n",
    "            tooltip='Distribution'\n",
    "        )\n",
    ")\n",
    "\n",
    "cover_type_by_wilderness_area_chart & wilderness_area_by_cover_type_chart"
   ]
  },
  {
   "cell_type": "markdown",
   "metadata": {},
   "source": [
    "Below we can see that the Cache la Poudre wilderness area has the lowest elevation of all the wilderness areas which might explain why only certain cover types grow in this area e.g. Cottonwood/Willow exclusively grows in this area and a large proportion of the Ponderosa Pine and Douglas-fir cover types grow in this area."
   ]
  },
  {
   "cell_type": "code",
   "execution_count": 58,
   "metadata": {},
   "outputs": [
    {
     "data": {
      "application/vnd.vegalite.v2+json": {
       "$schema": "https://vega.github.io/schema/vega-lite/v2.4.3.json",
       "config": {
        "view": {
         "height": 300,
         "width": 400
        }
       },
       "data": {
        "values": [
         {
          "Elevation": 2294.1060376541873,
          "Wilderness_Area_Name": "Cache la Poudre Wilderness Area"
         },
         {
          "Elevation": 2980.5544710377167,
          "Wilderness_Area_Name": "Comanche Peak Wilderness Area"
         },
         {
          "Elevation": 3245.7278142149644,
          "Wilderness_Area_Name": "Neota Wilderness Area"
         },
         {
          "Elevation": 3000.2672855411893,
          "Wilderness_Area_Name": "Rawah Wilderness Area"
         }
        ]
       },
       "encoding": {
        "tooltip": {
         "field": "Elevation",
         "type": "quantitative"
        },
        "x": {
         "field": "Wilderness_Area_Name",
         "type": "ordinal"
        },
        "y": {
         "field": "Elevation",
         "type": "quantitative"
        }
       },
       "mark": "bar",
       "width": 450
      },
      "image/png": "[encoded data removed]",
      "text/plain": [
       "<VegaLite 2 object>\n",
       "\n",
       "If you see this message, it means the renderer has not been properly enabled\n",
       "for the frontend that you are using. For more information, see\n",
       "https://altair-viz.github.io/user_guide/troubleshooting.html\n"
      ]
     },
     "execution_count": 58,
     "metadata": {},
     "output_type": "execute_result"
    }
   ],
   "source": [
    "group = covertype.groupby('Wilderness_Area_Name', as_index=False)\n",
    "wilderness_area_elevation = group.Elevation.mean()\n",
    "\n",
    "(alt\n",
    "    .Chart(wilderness_area_elevation, width=450)\n",
    "    .mark_bar()\n",
    "    .encode(\n",
    "        x='Wilderness_Area_Name:O',\n",
    "        y='Elevation:Q',\n",
    "        tooltip='Elevation:Q'\n",
    "    )\n",
    ")"
   ]
  },
  {
   "cell_type": "code",
   "execution_count": 41,
   "metadata": {},
   "outputs": [
    {
     "data": {
      "application/vnd.vegalite.v2+json": {
       "$schema": "https://vega.github.io/schema/vega-lite/v2.4.3.json",
       "config": {
        "view": {
         "height": 300,
         "width": 400
        }
       },
       "vconcat": [
        {
         "data": {
          "values": [
           {
            "Cover_Type_Name": "Aspen",
            "Distribution": 0,
            "Soil_Type": 0
           },
           {
            "Cover_Type_Name": "Cottonwood/Willow",
            "Distribution": 0.058726492906631476,
            "Soil_Type": 0
           },
           {
            "Cover_Type_Name": "Douglas-fir",
            "Distribution": 0.24810293632464533,
            "Soil_Type": 0
           },
           {
            "Cover_Type_Name": "Krummholz",
            "Distribution": 0,
            "Soil_Type": 0
           },
           {
            "Cover_Type_Name": "Lodgepole Pine",
            "Distribution": 0,
            "Soil_Type": 0
           },
           {
            "Cover_Type_Name": "Ponderosa Pine",
            "Distribution": 0.6931705707687232,
            "Soil_Type": 0
           },
           {
            "Cover_Type_Name": "Spruce/Fir",
            "Distribution": 0,
            "Soil_Type": 0
           },
           {
            "Cover_Type_Name": "Aspen",
            "Distribution": 0.03508305647840532,
            "Soil_Type": 1
           },
           {
            "Cover_Type_Name": "Cottonwood/Willow",
            "Distribution": 0.015282392026578074,
            "Soil_Type": 1
           },
           {
            "Cover_Type_Name": "Douglas-fir",
            "Distribution": 0.173156146179402,
            "Soil_Type": 1
           },
           {
            "Cover_Type_Name": "Krummholz",
            "Distribution": 0,
            "Soil_Type": 1
           },
           {
            "Cover_Type_Name": "Lodgepole Pine",
            "Distribution": 0.11322259136212624,
            "Soil_Type": 1
           },
           {
            "Cover_Type_Name": "Ponderosa Pine",
            "Distribution": 0.6632558139534884,
            "Soil_Type": 1
           },
           {
            "Cover_Type_Name": "Spruce/Fir",
            "Distribution": 0,
            "Soil_Type": 1
           },
           {
            "Cover_Type_Name": "Aspen",
            "Distribution": 0,
            "Soil_Type": 2
           },
           {
            "Cover_Type_Name": "Cottonwood/Willow",
            "Distribution": 0.21107194692100353,
            "Soil_Type": 2
           },
           {
            "Cover_Type_Name": "Douglas-fir",
            "Distribution": 0.0420899854862119,
            "Soil_Type": 2
           },
           {
            "Cover_Type_Name": "Krummholz",
            "Distribution": 0,
            "Soil_Type": 2
           },
           {
            "Cover_Type_Name": "Lodgepole Pine",
            "Distribution": 0.24694173750777523,
            "Soil_Type": 2
           },
           {
            "Cover_Type_Name": "Ponderosa Pine",
            "Distribution": 0.49989633008500933,
            "Soil_Type": 2
           },
           {
            "Cover_Type_Name": "Spruce/Fir",
            "Distribution": 0,
            "Soil_Type": 2
           },
           {
            "Cover_Type_Name": "Aspen",
            "Distribution": 0.04719264278799613,
            "Soil_Type": 3
           },
           {
            "Cover_Type_Name": "Cottonwood/Willow",
            "Distribution": 0.013552758954501452,
            "Soil_Type": 3
           },
           {
            "Cover_Type_Name": "Douglas-fir",
            "Distribution": 0.05090351726363343,
            "Soil_Type": 3
           },
           {
            "Cover_Type_Name": "Krummholz",
            "Distribution": 0.0062923523717328175,
            "Soil_Type": 3
           },
           {
            "Cover_Type_Name": "Lodgepole Pine",
            "Distribution": 0.2622620200064537,
            "Soil_Type": 3
           },
           {
            "Cover_Type_Name": "Ponderosa Pine",
            "Distribution": 0.6051145530816392,
            "Soil_Type": 3
           },
           {
            "Cover_Type_Name": "Spruce/Fir",
            "Distribution": 0.014682155534043239,
            "Soil_Type": 3
           },
           {
            "Cover_Type_Name": "Aspen",
            "Distribution": 0,
            "Soil_Type": 4
           },
           {
            "Cover_Type_Name": "Cottonwood/Willow",
            "Distribution": 0.03005635566687539,
            "Soil_Type": 4
           },
           {
            "Cover_Type_Name": "Douglas-fir",
            "Distribution": 0.36443331246086413,
            "Soil_Type": 4
           },
           {
            "Cover_Type_Name": "Krummholz",
            "Distribution": 0,
            "Soil_Type": 4
           },
           {
            "Cover_Type_Name": "Lodgepole Pine",
            "Distribution": 0,
            "Soil_Type": 4
           },
           {
            "Cover_Type_Name": "Ponderosa Pine",
            "Distribution": 0.6055103318722604,
            "Soil_Type": 4
           },
           {
            "Cover_Type_Name": "Spruce/Fir",
            "Distribution": 0,
            "Soil_Type": 4
           },
           {
            "Cover_Type_Name": "Aspen",
            "Distribution": 0,
            "Soil_Type": 5
           },
           {
            "Cover_Type_Name": "Cottonwood/Willow",
            "Distribution": 0.048669201520912544,
            "Soil_Type": 5
           },
           {
            "Cover_Type_Name": "Douglas-fir",
            "Distribution": 0.20532319391634982,
            "Soil_Type": 5
           },
           {
            "Cover_Type_Name": "Krummholz",
            "Distribution": 0,
            "Soil_Type": 5
           },
           {
            "Cover_Type_Name": "Lodgepole Pine",
            "Distribution": 0.13870722433460075,
            "Soil_Type": 5
           },
           {
            "Cover_Type_Name": "Ponderosa Pine",
            "Distribution": 0.6073003802281369,
            "Soil_Type": 5
           },
           {
            "Cover_Type_Name": "Spruce/Fir",
            "Distribution": 0,
            "Soil_Type": 5
           },
           {
            "Cover_Type_Name": "Aspen",
            "Distribution": 0,
            "Soil_Type": 6
           },
           {
            "Cover_Type_Name": "Cottonwood/Willow",
            "Distribution": 0,
            "Soil_Type": 6
           },
           {
            "Cover_Type_Name": "Douglas-fir",
            "Distribution": 0,
            "Soil_Type": 6
           },
           {
            "Cover_Type_Name": "Krummholz",
            "Distribution": 0,
            "Soil_Type": 6
           },
           {
            "Cover_Type_Name": "Lodgepole Pine",
            "Distribution": 1,
            "Soil_Type": 6
           },
           {
            "Cover_Type_Name": "Ponderosa Pine",
            "Distribution": 0,
            "Soil_Type": 6
           },
           {
            "Cover_Type_Name": "Spruce/Fir",
            "Distribution": 0,
            "Soil_Type": 6
           },
           {
            "Cover_Type_Name": "Aspen",
            "Distribution": 0,
            "Soil_Type": 7
           },
           {
            "Cover_Type_Name": "Cottonwood/Willow",
            "Distribution": 0,
            "Soil_Type": 7
           },
           {
            "Cover_Type_Name": "Douglas-fir",
            "Distribution": 0,
            "Soil_Type": 7
           },
           {
            "Cover_Type_Name": "Krummholz",
            "Distribution": 0,
            "Soil_Type": 7
           },
           {
            "Cover_Type_Name": "Lodgepole Pine",
            "Distribution": 0.7597765363128491,
            "Soil_Type": 7
           },
           {
            "Cover_Type_Name": "Ponderosa Pine",
            "Distribution": 0,
            "Soil_Type": 7
           },
           {
            "Cover_Type_Name": "Spruce/Fir",
            "Distribution": 0.24022346368715083,
            "Soil_Type": 7
           },
           {
            "Cover_Type_Name": "Aspen",
            "Distribution": 0,
            "Soil_Type": 8
           },
           {
            "Cover_Type_Name": "Cottonwood/Willow",
            "Distribution": 0,
            "Soil_Type": 8
           },
           {
            "Cover_Type_Name": "Douglas-fir",
            "Distribution": 0,
            "Soil_Type": 8
           },
           {
            "Cover_Type_Name": "Krummholz",
            "Distribution": 0,
            "Soil_Type": 8
           },
           {
            "Cover_Type_Name": "Lodgepole Pine",
            "Distribution": 0.8596338273757629,
            "Soil_Type": 8
           },
           {
            "Cover_Type_Name": "Ponderosa Pine",
            "Distribution": 0,
            "Soil_Type": 8
           },
           {
            "Cover_Type_Name": "Spruce/Fir",
            "Distribution": 0.14036617262423715,
            "Soil_Type": 8
           },
           {
            "Cover_Type_Name": "Aspen",
            "Distribution": 0.007967150824293681,
            "Soil_Type": 9
           },
           {
            "Cover_Type_Name": "Cottonwood/Willow",
            "Distribution": 0.006864006864006864,
            "Soil_Type": 9
           },
           {
            "Cover_Type_Name": "Douglas-fir",
            "Distribution": 0.27146534289391433,
            "Soil_Type": 9
           },
           {
            "Cover_Type_Name": "Krummholz",
            "Distribution": 0,
            "Soil_Type": 9
           },
           {
            "Cover_Type_Name": "Lodgepole Pine",
            "Distribution": 0.33103511674940245,
            "Soil_Type": 9
           },
           {
            "Cover_Type_Name": "Ponderosa Pine",
            "Distribution": 0.3533737819452105,
            "Soil_Type": 9
           },
           {
            "Cover_Type_Name": "Spruce/Fir",
            "Distribution": 0.02929460072317215,
            "Soil_Type": 9
           },
           {
            "Cover_Type_Name": "Aspen",
            "Distribution": 0.054875100725221594,
            "Soil_Type": 10
           },
           {
            "Cover_Type_Name": "Cottonwood/Willow",
            "Distribution": 0.0027397260273972603,
            "Soil_Type": 10
           },
           {
            "Cover_Type_Name": "Douglas-fir",
            "Distribution": 0.04174053182917002,
            "Soil_Type": 10
           },
           {
            "Cover_Type_Name": "Krummholz",
            "Distribution": 0,
            "Soil_Type": 10
           },
           {
            "Cover_Type_Name": "Lodgepole Pine",
            "Distribution": 0.7314262691377921,
            "Soil_Type": 10
           },
           {
            "Cover_Type_Name": "Ponderosa Pine",
            "Distribution": 0.10902497985495568,
            "Soil_Type": 10
           },
           {
            "Cover_Type_Name": "Spruce/Fir",
            "Distribution": 0.060193392425463337,
            "Soil_Type": 10
           },
           {
            "Cover_Type_Name": "Aspen",
            "Distribution": 0,
            "Soil_Type": 11
           },
           {
            "Cover_Type_Name": "Cottonwood/Willow",
            "Distribution": 0,
            "Soil_Type": 11
           },
           {
            "Cover_Type_Name": "Douglas-fir",
            "Distribution": 0,
            "Soil_Type": 11
           },
           {
            "Cover_Type_Name": "Krummholz",
            "Distribution": 0,
            "Soil_Type": 11
           },
           {
            "Cover_Type_Name": "Lodgepole Pine",
            "Distribution": 0.9101464749257616,
            "Soil_Type": 11
           },
           {
            "Cover_Type_Name": "Ponderosa Pine",
            "Distribution": 0,
            "Soil_Type": 11
           },
           {
            "Cover_Type_Name": "Spruce/Fir",
            "Distribution": 0.08985352507423842,
            "Soil_Type": 11
           },
           {
            "Cover_Type_Name": "Aspen",
            "Distribution": 0.0754403074981355,
            "Soil_Type": 12
           },
           {
            "Cover_Type_Name": "Cottonwood/Willow",
            "Distribution": 0,
            "Soil_Type": 12
           },
           {
            "Cover_Type_Name": "Douglas-fir",
            "Distribution": 0.035224599850840456,
            "Soil_Type": 12
           },
           {
            "Cover_Type_Name": "Krummholz",
            "Distribution": 0.0003442143307899719,
            "Soil_Type": 12
           },
           {
            "Cover_Type_Name": "Lodgepole Pine",
            "Distribution": 0.7605989329355746,
            "Soil_Type": 12
           },
           {
            "Cover_Type_Name": "Ponderosa Pine",
            "Distribution": 0.0023521312603981413,
            "Soil_Type": 12
           },
           {
            "Cover_Type_Name": "Spruce/Fir",
            "Distribution": 0.12603981412426138,
            "Soil_Type": 12
           },
           {
            "Cover_Type_Name": "Aspen",
            "Distribution": 0,
            "Soil_Type": 13
           },
           {
            "Cover_Type_Name": "Cottonwood/Willow",
            "Distribution": 0.2587646076794658,
            "Soil_Type": 13
           },
           {
            "Cover_Type_Name": "Douglas-fir",
            "Distribution": 0.5475792988313857,
            "Soil_Type": 13
           },
           {
            "Cover_Type_Name": "Krummholz",
            "Distribution": 0,
            "Soil_Type": 13
           },
           {
            "Cover_Type_Name": "Lodgepole Pine",
            "Distribution": 0,
            "Soil_Type": 13
           },
           {
            "Cover_Type_Name": "Ponderosa Pine",
            "Distribution": 0.19365609348914858,
            "Soil_Type": 13
           },
           {
            "Cover_Type_Name": "Spruce/Fir",
            "Distribution": 0,
            "Soil_Type": 13
           },
           {
            "Cover_Type_Name": "Aspen",
            "Distribution": 0,
            "Soil_Type": 14
           },
           {
            "Cover_Type_Name": "Cottonwood/Willow",
            "Distribution": 0,
            "Soil_Type": 14
           },
           {
            "Cover_Type_Name": "Douglas-fir",
            "Distribution": 1,
            "Soil_Type": 14
           },
           {
            "Cover_Type_Name": "Krummholz",
            "Distribution": 0,
            "Soil_Type": 14
           },
           {
            "Cover_Type_Name": "Lodgepole Pine",
            "Distribution": 0,
            "Soil_Type": 14
           },
           {
            "Cover_Type_Name": "Ponderosa Pine",
            "Distribution": 0,
            "Soil_Type": 14
           },
           {
            "Cover_Type_Name": "Spruce/Fir",
            "Distribution": 0,
            "Soil_Type": 14
           },
           {
            "Cover_Type_Name": "Aspen",
            "Distribution": 0.012302284710017574,
            "Soil_Type": 15
           },
           {
            "Cover_Type_Name": "Cottonwood/Willow",
            "Distribution": 0.017926186291739893,
            "Soil_Type": 15
           },
           {
            "Cover_Type_Name": "Douglas-fir",
            "Distribution": 0.0882249560632689,
            "Soil_Type": 15
           },
           {
            "Cover_Type_Name": "Krummholz",
            "Distribution": 0,
            "Soil_Type": 15
           },
           {
            "Cover_Type_Name": "Lodgepole Pine",
            "Distribution": 0.6126537785588753,
            "Soil_Type": 15
           },
           {
            "Cover_Type_Name": "Ponderosa Pine",
            "Distribution": 0.04534270650263621,
            "Soil_Type": 15
           },
           {
            "Cover_Type_Name": "Spruce/Fir",
            "Distribution": 0.22355008787346223,
            "Soil_Type": 15
           },
           {
            "Cover_Type_Name": "Aspen",
            "Distribution": 0.17533606078316774,
            "Soil_Type": 16
           },
           {
            "Cover_Type_Name": "Cottonwood/Willow",
            "Distribution": 0.12741087083576855,
            "Soil_Type": 16
           },
           {
            "Cover_Type_Name": "Douglas-fir",
            "Distribution": 0.20718877849210987,
            "Soil_Type": 16
           },
           {
            "Cover_Type_Name": "Krummholz",
            "Distribution": 0,
            "Soil_Type": 16
           },
           {
            "Cover_Type_Name": "Lodgepole Pine",
            "Distribution": 0.2796610169491525,
            "Soil_Type": 16
           },
           {
            "Cover_Type_Name": "Ponderosa Pine",
            "Distribution": 0.1478667445938048,
            "Soil_Type": 16
           },
           {
            "Cover_Type_Name": "Spruce/Fir",
            "Distribution": 0.06253652834599649,
            "Soil_Type": 16
           },
           {
            "Cover_Type_Name": "Aspen",
            "Distribution": 0.08952080042127436,
            "Soil_Type": 17
           },
           {
            "Cover_Type_Name": "Cottonwood/Willow",
            "Distribution": 0,
            "Soil_Type": 17
           },
           {
            "Cover_Type_Name": "Douglas-fir",
            "Distribution": 0,
            "Soil_Type": 17
           },
           {
            "Cover_Type_Name": "Krummholz",
            "Distribution": 0,
            "Soil_Type": 17
           },
           {
            "Cover_Type_Name": "Lodgepole Pine",
            "Distribution": 0.8736176935229067,
            "Soil_Type": 17
           },
           {
            "Cover_Type_Name": "Ponderosa Pine",
            "Distribution": 0,
            "Soil_Type": 17
           },
           {
            "Cover_Type_Name": "Spruce/Fir",
            "Distribution": 0.03686150605581885,
            "Soil_Type": 17
           },
           {
            "Cover_Type_Name": "Aspen",
            "Distribution": 0.01666252176075603,
            "Soil_Type": 18
           },
           {
            "Cover_Type_Name": "Cottonwood/Willow",
            "Distribution": 0,
            "Soil_Type": 18
           },
           {
            "Cover_Type_Name": "Douglas-fir",
            "Distribution": 0,
            "Soil_Type": 18
           },
           {
            "Cover_Type_Name": "Krummholz",
            "Distribution": 0.0007460830639144492,
            "Soil_Type": 18
           },
           {
            "Cover_Type_Name": "Lodgepole Pine",
            "Distribution": 0.3705545884108431,
            "Soil_Type": 18
           },
           {
            "Cover_Type_Name": "Ponderosa Pine",
            "Distribution": 0,
            "Soil_Type": 18
           },
           {
            "Cover_Type_Name": "Spruce/Fir",
            "Distribution": 0.6120368067644865,
            "Soil_Type": 18
           },
           {
            "Cover_Type_Name": "Aspen",
            "Distribution": 0.005724160276487741,
            "Soil_Type": 19
           },
           {
            "Cover_Type_Name": "Cottonwood/Willow",
            "Distribution": 0,
            "Soil_Type": 19
           },
           {
            "Cover_Type_Name": "Douglas-fir",
            "Distribution": 0.030240846743708825,
            "Soil_Type": 19
           },
           {
            "Cover_Type_Name": "Krummholz",
            "Distribution": 0,
            "Soil_Type": 19
           },
           {
            "Cover_Type_Name": "Lodgepole Pine",
            "Distribution": 0.5623717464088994,
            "Soil_Type": 19
           },
           {
            "Cover_Type_Name": "Ponderosa Pine",
            "Distribution": 0.00021600604816934875,
            "Soil_Type": 19
           },
           {
            "Cover_Type_Name": "Spruce/Fir",
            "Distribution": 0.4014472405227346,
            "Soil_Type": 19
           },
           {
            "Cover_Type_Name": "Aspen",
            "Distribution": 0,
            "Soil_Type": 20
           },
           {
            "Cover_Type_Name": "Cottonwood/Willow",
            "Distribution": 0,
            "Soil_Type": 20
           },
           {
            "Cover_Type_Name": "Douglas-fir",
            "Distribution": 0,
            "Soil_Type": 20
           },
           {
            "Cover_Type_Name": "Krummholz",
            "Distribution": 0.015513126491646777,
            "Soil_Type": 20
           },
           {
            "Cover_Type_Name": "Lodgepole Pine",
            "Distribution": 0.025059665871121718,
            "Soil_Type": 20
           },
           {
            "Cover_Type_Name": "Ponderosa Pine",
            "Distribution": 0,
            "Soil_Type": 20
           },
           {
            "Cover_Type_Name": "Spruce/Fir",
            "Distribution": 0.9594272076372315,
            "Soil_Type": 20
           },
           {
            "Cover_Type_Name": "Aspen",
            "Distribution": 0,
            "Soil_Type": 21
           },
           {
            "Cover_Type_Name": "Cottonwood/Willow",
            "Distribution": 0,
            "Soil_Type": 21
           },
           {
            "Cover_Type_Name": "Douglas-fir",
            "Distribution": 0,
            "Soil_Type": 21
           },
           {
            "Cover_Type_Name": "Krummholz",
            "Distribution": 0.004434722680010788,
            "Soil_Type": 21
           },
           {
            "Cover_Type_Name": "Lodgepole Pine",
            "Distribution": 0.2229946363827046,
            "Soil_Type": 21
           },
           {
            "Cover_Type_Name": "Ponderosa Pine",
            "Distribution": 0,
            "Soil_Type": 21
           },
           {
            "Cover_Type_Name": "Spruce/Fir",
            "Distribution": 0.7725706409372847,
            "Soil_Type": 21
           },
           {
            "Cover_Type_Name": "Aspen",
            "Distribution": 0.012103476935863692,
            "Soil_Type": 22
           },
           {
            "Cover_Type_Name": "Cottonwood/Willow",
            "Distribution": 0,
            "Soil_Type": 22
           },
           {
            "Cover_Type_Name": "Douglas-fir",
            "Distribution": 0.0005021471117883364,
            "Soil_Type": 22
           },
           {
            "Cover_Type_Name": "Krummholz",
            "Distribution": 0.012224684859398809,
            "Soil_Type": 22
           },
           {
            "Cover_Type_Name": "Lodgepole Pine",
            "Distribution": 0.3594853857875052,
            "Soil_Type": 22
           },
           {
            "Cover_Type_Name": "Ponderosa Pine",
            "Distribution": 0,
            "Soil_Type": 22
           },
           {
            "Cover_Type_Name": "Spruce/Fir",
            "Distribution": 0.6156843053054439,
            "Soil_Type": 22
           },
           {
            "Cover_Type_Name": "Aspen",
            "Distribution": 0.003289782874330294,
            "Soil_Type": 23
           },
           {
            "Cover_Type_Name": "Cottonwood/Willow",
            "Distribution": 0,
            "Soil_Type": 23
           },
           {
            "Cover_Type_Name": "Douglas-fir",
            "Distribution": 0.006485571952251151,
            "Soil_Type": 23
           },
           {
            "Cover_Type_Name": "Krummholz",
            "Distribution": 0.009587367233762571,
            "Soil_Type": 23
           },
           {
            "Cover_Type_Name": "Lodgepole Pine",
            "Distribution": 0.45596390638217876,
            "Soil_Type": 23
           },
           {
            "Cover_Type_Name": "Ponderosa Pine",
            "Distribution": 0,
            "Soil_Type": 23
           },
           {
            "Cover_Type_Name": "Spruce/Fir",
            "Distribution": 0.5246733715574772,
            "Soil_Type": 23
           },
           {
            "Cover_Type_Name": "Aspen",
            "Distribution": 0,
            "Soil_Type": 24
           },
           {
            "Cover_Type_Name": "Cottonwood/Willow",
            "Distribution": 0,
            "Soil_Type": 24
           },
           {
            "Cover_Type_Name": "Douglas-fir",
            "Distribution": 0,
            "Soil_Type": 24
           },
           {
            "Cover_Type_Name": "Krummholz",
            "Distribution": 0,
            "Soil_Type": 24
           },
           {
            "Cover_Type_Name": "Lodgepole Pine",
            "Distribution": 0.7362869198312236,
            "Soil_Type": 24
           },
           {
            "Cover_Type_Name": "Ponderosa Pine",
            "Distribution": 0,
            "Soil_Type": 24
           },
           {
            "Cover_Type_Name": "Spruce/Fir",
            "Distribution": 0.26371308016877637,
            "Soil_Type": 24
           },
           {
            "Cover_Type_Name": "Aspen",
            "Distribution": 0.05098493626882966,
            "Soil_Type": 25
           },
           {
            "Cover_Type_Name": "Cottonwood/Willow",
            "Distribution": 0,
            "Soil_Type": 25
           },
           {
            "Cover_Type_Name": "Douglas-fir",
            "Distribution": 0,
            "Soil_Type": 25
           },
           {
            "Cover_Type_Name": "Krummholz",
            "Distribution": 0,
            "Soil_Type": 25
           },
           {
            "Cover_Type_Name": "Lodgepole Pine",
            "Distribution": 0.839706450366937,
            "Soil_Type": 25
           },
           {
            "Cover_Type_Name": "Ponderosa Pine",
            "Distribution": 0,
            "Soil_Type": 25
           },
           {
            "Cover_Type_Name": "Spruce/Fir",
            "Distribution": 0.1093086133642333,
            "Soil_Type": 25
           },
           {
            "Cover_Type_Name": "Aspen",
            "Distribution": 0,
            "Soil_Type": 26
           },
           {
            "Cover_Type_Name": "Cottonwood/Willow",
            "Distribution": 0,
            "Soil_Type": 26
           },
           {
            "Cover_Type_Name": "Douglas-fir",
            "Distribution": 0,
            "Soil_Type": 26
           },
           {
            "Cover_Type_Name": "Krummholz",
            "Distribution": 0.0285451197053407,
            "Soil_Type": 26
           },
           {
            "Cover_Type_Name": "Lodgepole Pine",
            "Distribution": 0.4152854511970534,
            "Soil_Type": 26
           },
           {
            "Cover_Type_Name": "Ponderosa Pine",
            "Distribution": 0,
            "Soil_Type": 26
           },
           {
            "Cover_Type_Name": "Spruce/Fir",
            "Distribution": 0.5561694290976059,
            "Soil_Type": 26
           },
           {
            "Cover_Type_Name": "Aspen",
            "Distribution": 0.012684989429175475,
            "Soil_Type": 27
           },
           {
            "Cover_Type_Name": "Cottonwood/Willow",
            "Distribution": 0,
            "Soil_Type": 27
           },
           {
            "Cover_Type_Name": "Douglas-fir",
            "Distribution": 0,
            "Soil_Type": 27
           },
           {
            "Cover_Type_Name": "Krummholz",
            "Distribution": 0,
            "Soil_Type": 27
           },
           {
            "Cover_Type_Name": "Lodgepole Pine",
            "Distribution": 0.9418604651162791,
            "Soil_Type": 27
           },
           {
            "Cover_Type_Name": "Ponderosa Pine",
            "Distribution": 0,
            "Soil_Type": 27
           },
           {
            "Cover_Type_Name": "Spruce/Fir",
            "Distribution": 0.045454545454545456,
            "Soil_Type": 27
           },
           {
            "Cover_Type_Name": "Aspen",
            "Distribution": 0.00982238149366144,
            "Soil_Type": 28
           },
           {
            "Cover_Type_Name": "Cottonwood/Willow",
            "Distribution": 0,
            "Soil_Type": 28
           },
           {
            "Cover_Type_Name": "Douglas-fir",
            "Distribution": 0,
            "Soil_Type": 28
           },
           {
            "Cover_Type_Name": "Krummholz",
            "Distribution": 0.006984997440280441,
            "Soil_Type": 28
           },
           {
            "Cover_Type_Name": "Lodgepole Pine",
            "Distribution": 0.6195302263833332,
            "Soil_Type": 28
           },
           {
            "Cover_Type_Name": "Ponderosa Pine",
            "Distribution": 0,
            "Soil_Type": 28
           },
           {
            "Cover_Type_Name": "Spruce/Fir",
            "Distribution": 0.36366239468272493,
            "Soil_Type": 28
           },
           {
            "Cover_Type_Name": "Aspen",
            "Distribution": 0.0699701690420948,
            "Soil_Type": 29
           },
           {
            "Cover_Type_Name": "Cottonwood/Willow",
            "Distribution": 0,
            "Soil_Type": 29
           },
           {
            "Cover_Type_Name": "Douglas-fir",
            "Distribution": 0,
            "Soil_Type": 29
           },
           {
            "Cover_Type_Name": "Krummholz",
            "Distribution": 0.006529665230361286,
            "Soil_Type": 29
           },
           {
            "Cover_Type_Name": "Lodgepole Pine",
            "Distribution": 0.6701358965860126,
            "Soil_Type": 29
           },
           {
            "Cover_Type_Name": "Ponderosa Pine",
            "Distribution": 0,
            "Soil_Type": 29
           },
           {
            "Cover_Type_Name": "Spruce/Fir",
            "Distribution": 0.2533642691415313,
            "Soil_Type": 29
           },
           {
            "Cover_Type_Name": "Aspen",
            "Distribution": 0.012039273747370061,
            "Soil_Type": 30
           },
           {
            "Cover_Type_Name": "Cottonwood/Willow",
            "Distribution": 0,
            "Soil_Type": 30
           },
           {
            "Cover_Type_Name": "Douglas-fir",
            "Distribution": 0.0024546092106288477,
            "Soil_Type": 30
           },
           {
            "Cover_Type_Name": "Krummholz",
            "Distribution": 0.008649575313644511,
            "Soil_Type": 30
           },
           {
            "Cover_Type_Name": "Lodgepole Pine",
            "Distribution": 0.5146497311618483,
            "Soil_Type": 30
           },
           {
            "Cover_Type_Name": "Ponderosa Pine",
            "Distribution": 0,
            "Soil_Type": 30
           },
           {
            "Cover_Type_Name": "Spruce/Fir",
            "Distribution": 0.4622068105665082,
            "Soil_Type": 30
           },
           {
            "Cover_Type_Name": "Aspen",
            "Distribution": 0.008758734934023876,
            "Soil_Type": 31
           },
           {
            "Cover_Type_Name": "Cottonwood/Willow",
            "Distribution": 0,
            "Soil_Type": 31
           },
           {
            "Cover_Type_Name": "Douglas-fir",
            "Distribution": 0.0038081456234886424,
            "Soil_Type": 31
           },
           {
            "Cover_Type_Name": "Krummholz",
            "Distribution": 0.015975170890534855,
            "Soil_Type": 31
           },
           {
            "Cover_Type_Name": "Lodgepole Pine",
            "Distribution": 0.5627677602391515,
            "Soil_Type": 31
           },
           {
            "Cover_Type_Name": "Ponderosa Pine",
            "Distribution": 0.0020183171804489804,
            "Soil_Type": 31
           },
           {
            "Cover_Type_Name": "Spruce/Fir",
            "Distribution": 0.4066718711323521,
            "Soil_Type": 31
           },
           {
            "Cover_Type_Name": "Aspen",
            "Distribution": 0.01147185188466138,
            "Soil_Type": 32
           },
           {
            "Cover_Type_Name": "Cottonwood/Willow",
            "Distribution": 0,
            "Soil_Type": 32
           },
           {
            "Cover_Type_Name": "Douglas-fir",
            "Distribution": 0.011936926961066572,
            "Soil_Type": 32
           },
           {
            "Cover_Type_Name": "Krummholz",
            "Distribution": 0.01408513088541436,
            "Soil_Type": 32
           },
           {
            "Cover_Type_Name": "Lodgepole Pine",
            "Distribution": 0.5604819063648846,
            "Soil_Type": 32
           },
           {
            "Cover_Type_Name": "Ponderosa Pine",
            "Distribution": 0.00011073216104885503,
            "Soil_Type": 32
           },
           {
            "Cover_Type_Name": "Spruce/Fir",
            "Distribution": 0.4019134517429242,
            "Soil_Type": 32
           },
           {
            "Cover_Type_Name": "Aspen",
            "Distribution": 0.012414649286157667,
            "Soil_Type": 33
           },
           {
            "Cover_Type_Name": "Cottonwood/Willow",
            "Distribution": 0,
            "Soil_Type": 33
           },
           {
            "Cover_Type_Name": "Douglas-fir",
            "Distribution": 0.00931098696461825,
            "Soil_Type": 33
           },
           {
            "Cover_Type_Name": "Krummholz",
            "Distribution": 0.03165735567970205,
            "Soil_Type": 33
           },
           {
            "Cover_Type_Name": "Lodgepole Pine",
            "Distribution": 0.888268156424581,
            "Soil_Type": 33
           },
           {
            "Cover_Type_Name": "Ponderosa Pine",
            "Distribution": 0,
            "Soil_Type": 33
           },
           {
            "Cover_Type_Name": "Spruce/Fir",
            "Distribution": 0.05834885164494103,
            "Soil_Type": 33
           },
           {
            "Cover_Type_Name": "Aspen",
            "Distribution": 0,
            "Soil_Type": 34
           },
           {
            "Cover_Type_Name": "Cottonwood/Willow",
            "Distribution": 0,
            "Soil_Type": 34
           },
           {
            "Cover_Type_Name": "Douglas-fir",
            "Distribution": 0,
            "Soil_Type": 34
           },
           {
            "Cover_Type_Name": "Krummholz",
            "Distribution": 0.5013220518244316,
            "Soil_Type": 34
           },
           {
            "Cover_Type_Name": "Lodgepole Pine",
            "Distribution": 0.006345848757271285,
            "Soil_Type": 34
           },
           {
            "Cover_Type_Name": "Ponderosa Pine",
            "Distribution": 0,
            "Soil_Type": 34
           },
           {
            "Cover_Type_Name": "Spruce/Fir",
            "Distribution": 0.4923320994182972,
            "Soil_Type": 34
           },
           {
            "Cover_Type_Name": "Aspen",
            "Distribution": 0,
            "Soil_Type": 35
           },
           {
            "Cover_Type_Name": "Cottonwood/Willow",
            "Distribution": 0,
            "Soil_Type": 35
           },
           {
            "Cover_Type_Name": "Douglas-fir",
            "Distribution": 0,
            "Soil_Type": 35
           },
           {
            "Cover_Type_Name": "Krummholz",
            "Distribution": 0.5294117647058824,
            "Soil_Type": 35
           },
           {
            "Cover_Type_Name": "Lodgepole Pine",
            "Distribution": 0.35294117647058826,
            "Soil_Type": 35
           },
           {
            "Cover_Type_Name": "Ponderosa Pine",
            "Distribution": 0,
            "Soil_Type": 35
           },
           {
            "Cover_Type_Name": "Spruce/Fir",
            "Distribution": 0.11764705882352941,
            "Soil_Type": 35
           },
           {
            "Cover_Type_Name": "Aspen",
            "Distribution": 0,
            "Soil_Type": 36
           },
           {
            "Cover_Type_Name": "Cottonwood/Willow",
            "Distribution": 0,
            "Soil_Type": 36
           },
           {
            "Cover_Type_Name": "Douglas-fir",
            "Distribution": 0,
            "Soil_Type": 36
           },
           {
            "Cover_Type_Name": "Krummholz",
            "Distribution": 1,
            "Soil_Type": 36
           },
           {
            "Cover_Type_Name": "Lodgepole Pine",
            "Distribution": 0,
            "Soil_Type": 36
           },
           {
            "Cover_Type_Name": "Ponderosa Pine",
            "Distribution": 0,
            "Soil_Type": 36
           },
           {
            "Cover_Type_Name": "Spruce/Fir",
            "Distribution": 0,
            "Soil_Type": 36
           },
           {
            "Cover_Type_Name": "Aspen",
            "Distribution": 0,
            "Soil_Type": 37
           },
           {
            "Cover_Type_Name": "Cottonwood/Willow",
            "Distribution": 0,
            "Soil_Type": 37
           },
           {
            "Cover_Type_Name": "Douglas-fir",
            "Distribution": 0,
            "Soil_Type": 37
           },
           {
            "Cover_Type_Name": "Krummholz",
            "Distribution": 0.39196044435882615,
            "Soil_Type": 37
           },
           {
            "Cover_Type_Name": "Lodgepole Pine",
            "Distribution": 0.047518140371155204,
            "Soil_Type": 37
           },
           {
            "Cover_Type_Name": "Ponderosa Pine",
            "Distribution": 0,
            "Soil_Type": 37
           },
           {
            "Cover_Type_Name": "Spruce/Fir",
            "Distribution": 0.5605214152700186,
            "Soil_Type": 37
           },
           {
            "Cover_Type_Name": "Aspen",
            "Distribution": 0,
            "Soil_Type": 38
           },
           {
            "Cover_Type_Name": "Cottonwood/Willow",
            "Distribution": 0,
            "Soil_Type": 38
           },
           {
            "Cover_Type_Name": "Douglas-fir",
            "Distribution": 0,
            "Soil_Type": 38
           },
           {
            "Cover_Type_Name": "Krummholz",
            "Distribution": 0.40315804722584386,
            "Soil_Type": 38
           },
           {
            "Cover_Type_Name": "Lodgepole Pine",
            "Distribution": 0.025930754744314066,
            "Soil_Type": 38
           },
           {
            "Cover_Type_Name": "Ponderosa Pine",
            "Distribution": 0,
            "Soil_Type": 38
           },
           {
            "Cover_Type_Name": "Spruce/Fir",
            "Distribution": 0.5709111980298421,
            "Soil_Type": 38
           },
           {
            "Cover_Type_Name": "Aspen",
            "Distribution": 0,
            "Soil_Type": 39
           },
           {
            "Cover_Type_Name": "Cottonwood/Willow",
            "Distribution": 0,
            "Soil_Type": 39
           },
           {
            "Cover_Type_Name": "Douglas-fir",
            "Distribution": 0,
            "Soil_Type": 39
           },
           {
            "Cover_Type_Name": "Krummholz",
            "Distribution": 0.4105142857142857,
            "Soil_Type": 39
           },
           {
            "Cover_Type_Name": "Lodgepole Pine",
            "Distribution": 0.037942857142857146,
            "Soil_Type": 39
           },
           {
            "Cover_Type_Name": "Ponderosa Pine",
            "Distribution": 0,
            "Soil_Type": 39
           },
           {
            "Cover_Type_Name": "Spruce/Fir",
            "Distribution": 0.5515428571428571,
            "Soil_Type": 39
           }
          ]
         },
         "encoding": {
          "color": {
           "field": "Distribution",
           "type": "quantitative"
          },
          "tooltip": {
           "field": "Distribution",
           "type": "quantitative"
          },
          "x": {
           "field": "Soil_Type",
           "type": "ordinal"
          },
          "y": {
           "field": "Cover_Type_Name",
           "type": "ordinal"
          }
         },
         "mark": "rect"
        },
        {
         "data": {
          "values": [
           {
            "Cover_Type_Name": "Aspen",
            "Distribution": 0,
            "Soil_Type": 0
           },
           {
            "Cover_Type_Name": "Cottonwood/Willow",
            "Distribution": 0.06479796141244995,
            "Soil_Type": 0
           },
           {
            "Cover_Type_Name": "Douglas-fir",
            "Distribution": 0.043300512466171476,
            "Soil_Type": 0
           },
           {
            "Cover_Type_Name": "Krummholz",
            "Distribution": 0,
            "Soil_Type": 0
           },
           {
            "Cover_Type_Name": "Lodgepole Pine",
            "Distribution": 0,
            "Soil_Type": 0
           },
           {
            "Cover_Type_Name": "Ponderosa Pine",
            "Distribution": 0.05876265592660961,
            "Soil_Type": 0
           },
           {
            "Cover_Type_Name": "Spruce/Fir",
            "Distribution": 0,
            "Soil_Type": 0
           },
           {
            "Cover_Type_Name": "Aspen",
            "Distribution": 0.027809965237543453,
            "Soil_Type": 1
           },
           {
            "Cover_Type_Name": "Cottonwood/Willow",
            "Distribution": 0.04186385147433564,
            "Soil_Type": 1
           },
           {
            "Cover_Type_Name": "Douglas-fir",
            "Distribution": 0.07502735072263489,
            "Soil_Type": 1
           },
           {
            "Cover_Type_Name": "Krummholz",
            "Distribution": 0,
            "Soil_Type": 1
           },
           {
            "Cover_Type_Name": "Lodgepole Pine",
            "Distribution": 0.003007402021171828,
            "Soil_Type": 1
           },
           {
            "Cover_Type_Name": "Ponderosa Pine",
            "Distribution": 0.1395927728366057,
            "Soil_Type": 1
           },
           {
            "Cover_Type_Name": "Spruce/Fir",
            "Distribution": 0,
            "Soil_Type": 1
           },
           {
            "Cover_Type_Name": "Aspen",
            "Distribution": 0,
            "Soil_Type": 2
           },
           {
            "Cover_Type_Name": "Cottonwood/Willow",
            "Distribution": 0.3705860939206407,
            "Soil_Type": 2
           },
           {
            "Cover_Type_Name": "Douglas-fir",
            "Distribution": 0.011688835147118097,
            "Soil_Type": 2
           },
           {
            "Cover_Type_Name": "Krummholz",
            "Distribution": 0,
            "Soil_Type": 2
           },
           {
            "Cover_Type_Name": "Lodgepole Pine",
            "Distribution": 0.004204009163398647,
            "Soil_Type": 2
           },
           {
            "Cover_Type_Name": "Ponderosa Pine",
            "Distribution": 0.06743301448788946,
            "Soil_Type": 2
           },
           {
            "Cover_Type_Name": "Spruce/Fir",
            "Distribution": 0,
            "Soil_Type": 2
           },
           {
            "Cover_Type_Name": "Aspen",
            "Distribution": 0.06162435478773833,
            "Soil_Type": 3
           },
           {
            "Cover_Type_Name": "Cottonwood/Willow",
            "Distribution": 0.06115762650163815,
            "Soil_Type": 3
           },
           {
            "Cover_Type_Name": "Douglas-fir",
            "Distribution": 0.03633327575286463,
            "Soil_Type": 3
           },
           {
            "Cover_Type_Name": "Krummholz",
            "Distribution": 0.003803022915650902,
            "Soil_Type": 3
           },
           {
            "Cover_Type_Name": "Lodgepole Pine",
            "Distribution": 0.011475427195809405,
            "Soil_Type": 3
           },
           {
            "Cover_Type_Name": "Ponderosa Pine",
            "Distribution": 0.20979470828438776,
            "Soil_Type": 3
           },
           {
            "Cover_Type_Name": "Spruce/Fir",
            "Distribution": 0.0008591389728096676,
            "Soil_Type": 3
           },
           {
            "Cover_Type_Name": "Aspen",
            "Distribution": 0,
            "Soil_Type": 4
           },
           {
            "Cover_Type_Name": "Cottonwood/Willow",
            "Distribution": 0.017473607571896616,
            "Soil_Type": 4
           },
           {
            "Cover_Type_Name": "Douglas-fir",
            "Distribution": 0.03351183278631888,
            "Soil_Type": 4
           },
           {
            "Cover_Type_Name": "Krummholz",
            "Distribution": 0,
            "Soil_Type": 4
           },
           {
            "Cover_Type_Name": "Lodgepole Pine",
            "Distribution": 0,
            "Soil_Type": 4
           },
           {
            "Cover_Type_Name": "Ponderosa Pine",
            "Distribution": 0.027045924931476197,
            "Soil_Type": 4
           },
           {
            "Cover_Type_Name": "Spruce/Fir",
            "Distribution": 0,
            "Soil_Type": 4
           },
           {
            "Cover_Type_Name": "Aspen",
            "Distribution": 0,
            "Soil_Type": 5
           },
           {
            "Cover_Type_Name": "Cottonwood/Willow",
            "Distribution": 0.11649071714597743,
            "Soil_Type": 5
           },
           {
            "Cover_Type_Name": "Douglas-fir",
            "Distribution": 0.0777336327517706,
            "Soil_Type": 5
           },
           {
            "Cover_Type_Name": "Krummholz",
            "Distribution": 0,
            "Soil_Type": 5
           },
           {
            "Cover_Type_Name": "Lodgepole Pine",
            "Distribution": 0.003219190895902238,
            "Soil_Type": 5
           },
           {
            "Cover_Type_Name": "Ponderosa Pine",
            "Distribution": 0.11167981204900151,
            "Soil_Type": 5
           },
           {
            "Cover_Type_Name": "Spruce/Fir",
            "Distribution": 0,
            "Soil_Type": 5
           },
           {
            "Cover_Type_Name": "Aspen",
            "Distribution": 0,
            "Soil_Type": 6
           },
           {
            "Cover_Type_Name": "Cottonwood/Willow",
            "Distribution": 0,
            "Soil_Type": 6
           },
           {
            "Cover_Type_Name": "Douglas-fir",
            "Distribution": 0,
            "Soil_Type": 6
           },
           {
            "Cover_Type_Name": "Krummholz",
            "Distribution": 0,
            "Soil_Type": 6
           },
           {
            "Cover_Type_Name": "Lodgepole Pine",
            "Distribution": 0.00037063053077821825,
            "Soil_Type": 6
           },
           {
            "Cover_Type_Name": "Ponderosa Pine",
            "Distribution": 0,
            "Soil_Type": 6
           },
           {
            "Cover_Type_Name": "Spruce/Fir",
            "Distribution": 0,
            "Soil_Type": 6
           },
           {
            "Cover_Type_Name": "Aspen",
            "Distribution": 0,
            "Soil_Type": 7
           },
           {
            "Cover_Type_Name": "Cottonwood/Willow",
            "Distribution": 0,
            "Soil_Type": 7
           },
           {
            "Cover_Type_Name": "Douglas-fir",
            "Distribution": 0,
            "Soil_Type": 7
           },
           {
            "Cover_Type_Name": "Krummholz",
            "Distribution": 0,
            "Soil_Type": 7
           },
           {
            "Cover_Type_Name": "Lodgepole Pine",
            "Distribution": 0.0004800547827222636,
            "Soil_Type": 7
           },
           {
            "Cover_Type_Name": "Ponderosa Pine",
            "Distribution": 0,
            "Soil_Type": 7
           },
           {
            "Cover_Type_Name": "Spruce/Fir",
            "Distribution": 0.0002029833836858006,
            "Soil_Type": 7
           },
           {
            "Cover_Type_Name": "Aspen",
            "Distribution": 0,
            "Soil_Type": 8
           },
           {
            "Cover_Type_Name": "Cottonwood/Willow",
            "Distribution": 0,
            "Soil_Type": 8
           },
           {
            "Cover_Type_Name": "Douglas-fir",
            "Distribution": 0,
            "Soil_Type": 8
           },
           {
            "Cover_Type_Name": "Krummholz",
            "Distribution": 0,
            "Soil_Type": 8
           },
           {
            "Cover_Type_Name": "Lodgepole Pine",
            "Distribution": 0.003480397174736411,
            "Soil_Type": 8
           },
           {
            "Cover_Type_Name": "Ponderosa Pine",
            "Distribution": 0,
            "Soil_Type": 8
           },
           {
            "Cover_Type_Name": "Spruce/Fir",
            "Distribution": 0.0007600075528700907,
            "Soil_Type": 8
           },
           {
            "Cover_Type_Name": "Aspen",
            "Distribution": 0.027388602127883705,
            "Soil_Type": 9
           },
           {
            "Cover_Type_Name": "Cottonwood/Willow",
            "Distribution": 0.0815435020021842,
            "Soil_Type": 9
           },
           {
            "Cover_Type_Name": "Douglas-fir",
            "Distribution": 0.5101053722577302,
            "Soil_Type": 9
           },
           {
            "Cover_Type_Name": "Krummholz",
            "Distribution": 0,
            "Soil_Type": 9
           },
           {
            "Cover_Type_Name": "Lodgepole Pine",
            "Distribution": 0.038132586895210395,
            "Soil_Type": 9
           },
           {
            "Cover_Type_Name": "Ponderosa Pine",
            "Distribution": 0.3225373384796107,
            "Soil_Type": 9
           },
           {
            "Cover_Type_Name": "Spruce/Fir",
            "Distribution": 0.004512839879154079,
            "Soil_Type": 9
           },
           {
            "Cover_Type_Name": "Aspen",
            "Distribution": 0.07173706941957232,
            "Soil_Type": 10
           },
           {
            "Cover_Type_Name": "Cottonwood/Willow",
            "Distribution": 0.012377138696760102,
            "Soil_Type": 10
           },
           {
            "Cover_Type_Name": "Douglas-fir",
            "Distribution": 0.029826682789197905,
            "Soil_Type": 10
           },
           {
            "Cover_Type_Name": "Krummholz",
            "Distribution": 0,
            "Soil_Type": 10
           },
           {
            "Cover_Type_Name": "Lodgepole Pine",
            "Distribution": 0.032040126932132255,
            "Soil_Type": 10
           },
           {
            "Cover_Type_Name": "Ponderosa Pine",
            "Distribution": 0.03784191978519886,
            "Soil_Type": 10
           },
           {
            "Cover_Type_Name": "Spruce/Fir",
            "Distribution": 0.0035262462235649546,
            "Soil_Type": 10
           },
           {
            "Cover_Type_Name": "Aspen",
            "Distribution": 0,
            "Soil_Type": 11
           },
           {
            "Cover_Type_Name": "Cottonwood/Willow",
            "Distribution": 0,
            "Soil_Type": 11
           },
           {
            "Cover_Type_Name": "Douglas-fir",
            "Distribution": 0,
            "Soil_Type": 11
           },
           {
            "Cover_Type_Name": "Krummholz",
            "Distribution": 0,
            "Soil_Type": 11
           },
           {
            "Cover_Type_Name": "Lodgepole Pine",
            "Distribution": 0.09628628208160225,
            "Soil_Type": 11
           },
           {
            "Cover_Type_Name": "Ponderosa Pine",
            "Distribution": 0,
            "Soil_Type": 11
           },
           {
            "Cover_Type_Name": "Spruce/Fir",
            "Distribution": 0.012712424471299093,
            "Soil_Type": 11
           },
           {
            "Cover_Type_Name": "Aspen",
            "Distribution": 0.13852312230064256,
            "Soil_Type": 12
           },
           {
            "Cover_Type_Name": "Cottonwood/Willow",
            "Distribution": 0,
            "Soil_Type": 12
           },
           {
            "Cover_Type_Name": "Douglas-fir",
            "Distribution": 0.03535440778487937,
            "Soil_Type": 12
           },
           {
            "Cover_Type_Name": "Krummholz",
            "Distribution": 0.0002925402242808386,
            "Soil_Type": 12
           },
           {
            "Cover_Type_Name": "Lodgepole Pine",
            "Distribution": 0.04679828168626302,
            "Soil_Type": 12
           },
           {
            "Cover_Type_Name": "Ponderosa Pine",
            "Distribution": 0.001146724841975723,
            "Soil_Type": 12
           },
           {
            "Cover_Type_Name": "Spruce/Fir",
            "Distribution": 0.010371034743202417,
            "Soil_Type": 12
           },
           {
            "Cover_Type_Name": "Aspen",
            "Distribution": 0,
            "Soil_Type": 13
           },
           {
            "Cover_Type_Name": "Cottonwood/Willow",
            "Distribution": 0.05642519111758282,
            "Soil_Type": 13
           },
           {
            "Cover_Type_Name": "Douglas-fir",
            "Distribution": 0.018886393735245005,
            "Soil_Type": 13
           },
           {
            "Cover_Type_Name": "Krummholz",
            "Distribution": 0,
            "Soil_Type": 13
           },
           {
            "Cover_Type_Name": "Lodgepole Pine",
            "Distribution": 0,
            "Soil_Type": 13
           },
           {
            "Cover_Type_Name": "Ponderosa Pine",
            "Distribution": 0.0032443922358337527,
            "Soil_Type": 13
           },
           {
            "Cover_Type_Name": "Spruce/Fir",
            "Distribution": 0,
            "Soil_Type": 13
           },
           {
            "Cover_Type_Name": "Aspen",
            "Distribution": 0,
            "Soil_Type": 14
           },
           {
            "Cover_Type_Name": "Cottonwood/Willow",
            "Distribution": 0,
            "Soil_Type": 14
           },
           {
            "Cover_Type_Name": "Douglas-fir",
            "Distribution": 0.00017274140611504577,
            "Soil_Type": 14
           },
           {
            "Cover_Type_Name": "Krummholz",
            "Distribution": 0,
            "Soil_Type": 14
           },
           {
            "Cover_Type_Name": "Lodgepole Pine",
            "Distribution": 0,
            "Soil_Type": 14
           },
           {
            "Cover_Type_Name": "Ponderosa Pine",
            "Distribution": 0,
            "Soil_Type": 14
           },
           {
            "Cover_Type_Name": "Spruce/Fir",
            "Distribution": 0,
            "Soil_Type": 14
           },
           {
            "Cover_Type_Name": "Aspen",
            "Distribution": 0.0036869272095228062,
            "Soil_Type": 15
           },
           {
            "Cover_Type_Name": "Cottonwood/Willow",
            "Distribution": 0.018565708045140152,
            "Soil_Type": 15
           },
           {
            "Cover_Type_Name": "Douglas-fir",
            "Distribution": 0.01445269764495883,
            "Soil_Type": 15
           },
           {
            "Cover_Type_Name": "Krummholz",
            "Distribution": 0,
            "Soil_Type": 15
           },
           {
            "Cover_Type_Name": "Lodgepole Pine",
            "Distribution": 0.006152466810918422,
            "Soil_Type": 15
           },
           {
            "Cover_Type_Name": "Ponderosa Pine",
            "Distribution": 0.0036079879174358113,
            "Soil_Type": 15
           },
           {
            "Cover_Type_Name": "Spruce/Fir",
            "Distribution": 0.00300226586102719,
            "Soil_Type": 15
           },
           {
            "Cover_Type_Name": "Aspen",
            "Distribution": 0.0632044664489624,
            "Soil_Type": 16
           },
           {
            "Cover_Type_Name": "Cottonwood/Willow",
            "Distribution": 0.15871860211139424,
            "Soil_Type": 16
           },
           {
            "Cover_Type_Name": "Douglas-fir",
            "Distribution": 0.04082455231185582,
            "Soil_Type": 16
           },
           {
            "Cover_Type_Name": "Krummholz",
            "Distribution": 0,
            "Soil_Type": 16
           },
           {
            "Cover_Type_Name": "Lodgepole Pine",
            "Distribution": 0.003378032551950046,
            "Soil_Type": 16
           },
           {
            "Cover_Type_Name": "Ponderosa Pine",
            "Distribution": 0.014152262683895508,
            "Soil_Type": 16
           },
           {
            "Cover_Type_Name": "Spruce/Fir",
            "Distribution": 0.0010101963746223565,
            "Soil_Type": 16
           },
           {
            "Cover_Type_Name": "Aspen",
            "Distribution": 0.017907932160539344,
            "Soil_Type": 17
           },
           {
            "Cover_Type_Name": "Cottonwood/Willow",
            "Distribution": 0,
            "Soil_Type": 17
           },
           {
            "Cover_Type_Name": "Douglas-fir",
            "Distribution": 0,
            "Soil_Type": 17
           },
           {
            "Cover_Type_Name": "Krummholz",
            "Distribution": 0,
            "Soil_Type": 17
           },
           {
            "Cover_Type_Name": "Lodgepole Pine",
            "Distribution": 0.005855962386295848,
            "Soil_Type": 17
           },
           {
            "Cover_Type_Name": "Ponderosa Pine",
            "Distribution": 0,
            "Soil_Type": 17
           },
           {
            "Cover_Type_Name": "Spruce/Fir",
            "Distribution": 0.0003304380664652568,
            "Soil_Type": 17
           },
           {
            "Cover_Type_Name": "Aspen",
            "Distribution": 0.007057832086800801,
            "Soil_Type": 18
           },
           {
            "Cover_Type_Name": "Cottonwood/Willow",
            "Distribution": 0,
            "Soil_Type": 18
           },
           {
            "Cover_Type_Name": "Douglas-fir",
            "Distribution": 0,
            "Soil_Type": 18
           },
           {
            "Cover_Type_Name": "Krummholz",
            "Distribution": 0.0001462701121404193,
            "Soil_Type": 18
           },
           {
            "Cover_Type_Name": "Lodgepole Pine",
            "Distribution": 0.005259423722471858,
            "Soil_Type": 18
           },
           {
            "Cover_Type_Name": "Ponderosa Pine",
            "Distribution": 0,
            "Soil_Type": 18
           },
           {
            "Cover_Type_Name": "Spruce/Fir",
            "Distribution": 0.011617258308157099,
            "Soil_Type": 18
           },
           {
            "Cover_Type_Name": "Aspen",
            "Distribution": 0.005583061202991678,
            "Soil_Type": 19
           },
           {
            "Cover_Type_Name": "Cottonwood/Willow",
            "Distribution": 0,
            "Soil_Type": 19
           },
           {
            "Cover_Type_Name": "Douglas-fir",
            "Distribution": 0.016122531237404272,
            "Soil_Type": 19
           },
           {
            "Cover_Type_Name": "Krummholz",
            "Distribution": 0,
            "Soil_Type": 19
           },
           {
            "Cover_Type_Name": "Lodgepole Pine",
            "Distribution": 0.018379744512020783,
            "Soil_Type": 19
           },
           {
            "Cover_Type_Name": "Ponderosa Pine",
            "Distribution": 5.5937797169547465e-05,
            "Soil_Type": 19
           },
           {
            "Cover_Type_Name": "Spruce/Fir",
            "Distribution": 0.017546261329305136,
            "Soil_Type": 19
           },
           {
            "Cover_Type_Name": "Aspen",
            "Distribution": 0,
            "Soil_Type": 20
           },
           {
            "Cover_Type_Name": "Cottonwood/Willow",
            "Distribution": 0,
            "Soil_Type": 20
           },
           {
            "Cover_Type_Name": "Douglas-fir",
            "Distribution": 0,
            "Soil_Type": 20
           },
           {
            "Cover_Type_Name": "Krummholz",
            "Distribution": 0.0006338371526084836,
            "Soil_Type": 20
           },
           {
            "Cover_Type_Name": "Lodgepole Pine",
            "Distribution": 7.412610615564364e-05,
            "Soil_Type": 20
           },
           {
            "Cover_Type_Name": "Ponderosa Pine",
            "Distribution": 0,
            "Soil_Type": 20
           },
           {
            "Cover_Type_Name": "Spruce/Fir",
            "Distribution": 0.0037953172205438066,
            "Soil_Type": 20
           },
           {
            "Cover_Type_Name": "Aspen",
            "Distribution": 0,
            "Soil_Type": 21
           },
           {
            "Cover_Type_Name": "Cottonwood/Willow",
            "Distribution": 0,
            "Soil_Type": 21
           },
           {
            "Cover_Type_Name": "Douglas-fir",
            "Distribution": 0,
            "Soil_Type": 21
           },
           {
            "Cover_Type_Name": "Krummholz",
            "Distribution": 0.007215992198927352,
            "Soil_Type": 21
           },
           {
            "Cover_Type_Name": "Lodgepole Pine",
            "Distribution": 0.026268880095728572,
            "Soil_Type": 21
           },
           {
            "Cover_Type_Name": "Ponderosa Pine",
            "Distribution": 0,
            "Soil_Type": 21
           },
           {
            "Cover_Type_Name": "Spruce/Fir",
            "Distribution": 0.12170978096676738,
            "Soil_Type": 21
           },
           {
            "Cover_Type_Name": "Aspen",
            "Distribution": 0.07363320341304119,
            "Soil_Type": 22
           },
           {
            "Cover_Type_Name": "Cottonwood/Willow",
            "Distribution": 0,
            "Soil_Type": 22
           },
           {
            "Cover_Type_Name": "Douglas-fir",
            "Distribution": 0.0016698335924454424,
            "Soil_Type": 22
           },
           {
            "Cover_Type_Name": "Krummholz",
            "Distribution": 0.034422233057045344,
            "Soil_Type": 22
           },
           {
            "Cover_Type_Name": "Lodgepole Pine",
            "Distribution": 0.07328248047130084,
            "Soil_Type": 22
           },
           {
            "Cover_Type_Name": "Ponderosa Pine",
            "Distribution": 0,
            "Soil_Type": 22
           },
           {
            "Cover_Type_Name": "Spruce/Fir",
            "Distribution": 0.16784837613293052,
            "Soil_Type": 22
           },
           {
            "Cover_Type_Name": "Aspen",
            "Distribution": 0.0073738544190456124,
            "Soil_Type": 23
           },
           {
            "Cover_Type_Name": "Cottonwood/Willow",
            "Distribution": 0,
            "Soil_Type": 23
           },
           {
            "Cover_Type_Name": "Douglas-fir",
            "Distribution": 0.007946104681292105,
            "Soil_Type": 23
           },
           {
            "Cover_Type_Name": "Krummholz",
            "Distribution": 0.009946367625548513,
            "Soil_Type": 23
           },
           {
            "Cover_Type_Name": "Lodgepole Pine",
            "Distribution": 0.034246261043907364,
            "Soil_Type": 23
           },
           {
            "Cover_Type_Name": "Ponderosa Pine",
            "Distribution": 0,
            "Soil_Type": 23
           },
           {
            "Cover_Type_Name": "Spruce/Fir",
            "Distribution": 0.05270015105740181,
            "Soil_Type": 23
           },
           {
            "Cover_Type_Name": "Aspen",
            "Distribution": 0,
            "Soil_Type": 24
           },
           {
            "Cover_Type_Name": "Cottonwood/Willow",
            "Distribution": 0,
            "Soil_Type": 24
           },
           {
            "Cover_Type_Name": "Douglas-fir",
            "Distribution": 0,
            "Soil_Type": 24
           },
           {
            "Cover_Type_Name": "Krummholz",
            "Distribution": 0,
            "Soil_Type": 24
           },
           {
            "Cover_Type_Name": "Lodgepole Pine",
            "Distribution": 0.0012319052880152205,
            "Soil_Type": 24
           },
           {
            "Cover_Type_Name": "Ponderosa Pine",
            "Distribution": 0,
            "Soil_Type": 24
           },
           {
            "Cover_Type_Name": "Spruce/Fir",
            "Distribution": 0.0005900679758308157,
            "Soil_Type": 24
           },
           {
            "Cover_Type_Name": "Aspen",
            "Distribution": 0.013904982618771726,
            "Soil_Type": 25
           },
           {
            "Cover_Type_Name": "Cottonwood/Willow",
            "Distribution": 0,
            "Soil_Type": 25
           },
           {
            "Cover_Type_Name": "Douglas-fir",
            "Distribution": 0,
            "Soil_Type": 25
           },
           {
            "Cover_Type_Name": "Krummholz",
            "Distribution": 0,
            "Soil_Type": 25
           },
           {
            "Cover_Type_Name": "Lodgepole Pine",
            "Distribution": 0.007673816894398537,
            "Soil_Type": 25
           },
           {
            "Cover_Type_Name": "Ponderosa Pine",
            "Distribution": 0,
            "Soil_Type": 25
           },
           {
            "Cover_Type_Name": "Spruce/Fir",
            "Distribution": 0.0013359138972809667,
            "Soil_Type": 25
           },
           {
            "Cover_Type_Name": "Aspen",
            "Distribution": 0,
            "Soil_Type": 26
           },
           {
            "Cover_Type_Name": "Cottonwood/Willow",
            "Distribution": 0,
            "Soil_Type": 26
           },
           {
            "Cover_Type_Name": "Douglas-fir",
            "Distribution": 0,
            "Soil_Type": 26
           },
           {
            "Cover_Type_Name": "Krummholz",
            "Distribution": 0.0015114578254509996,
            "Soil_Type": 26
           },
           {
            "Cover_Type_Name": "Lodgepole Pine",
            "Distribution": 0.0015919463750569184,
            "Soil_Type": 26
           },
           {
            "Cover_Type_Name": "Ponderosa Pine",
            "Distribution": 0,
            "Soil_Type": 26
           },
           {
            "Cover_Type_Name": "Spruce/Fir",
            "Distribution": 0.0028512084592145015,
            "Soil_Type": 26
           },
           {
            "Cover_Type_Name": "Aspen",
            "Distribution": 0.0012640893289792478,
            "Soil_Type": 27
           },
           {
            "Cover_Type_Name": "Cottonwood/Willow",
            "Distribution": 0,
            "Soil_Type": 27
           },
           {
            "Cover_Type_Name": "Douglas-fir",
            "Distribution": 0,
            "Soil_Type": 27
           },
           {
            "Cover_Type_Name": "Krummholz",
            "Distribution": 0,
            "Soil_Type": 27
           },
           {
            "Cover_Type_Name": "Lodgepole Pine",
            "Distribution": 0.0031450647897465944,
            "Soil_Type": 27
           },
           {
            "Cover_Type_Name": "Ponderosa Pine",
            "Distribution": 0,
            "Soil_Type": 27
           },
           {
            "Cover_Type_Name": "Spruce/Fir",
            "Distribution": 0.0002029833836858006,
            "Soil_Type": 27
           },
           {
            "Cover_Type_Name": "Aspen",
            "Distribution": 0.11924576003370906,
            "Soil_Type": 28
           },
           {
            "Cover_Type_Name": "Cottonwood/Willow",
            "Distribution": 0,
            "Soil_Type": 28
           },
           {
            "Cover_Type_Name": "Douglas-fir",
            "Distribution": 0,
            "Soil_Type": 28
           },
           {
            "Cover_Type_Name": "Krummholz",
            "Distribution": 0.03924914675767918,
            "Soil_Type": 28
           },
           {
            "Cover_Type_Name": "Lodgepole Pine",
            "Distribution": 0.25202523111460956,
            "Soil_Type": 28
           },
           {
            "Cover_Type_Name": "Ponderosa Pine",
            "Distribution": 0,
            "Soil_Type": 28
           },
           {
            "Cover_Type_Name": "Spruce/Fir",
            "Distribution": 0.19784271148036253,
            "Soil_Type": 28
           },
           {
            "Cover_Type_Name": "Aspen",
            "Distribution": 0.22237438112293267,
            "Soil_Type": 29
           },
           {
            "Cover_Type_Name": "Cottonwood/Willow",
            "Distribution": 0,
            "Soil_Type": 29
           },
           {
            "Cover_Type_Name": "Douglas-fir",
            "Distribution": 0,
            "Soil_Type": 29
           },
           {
            "Cover_Type_Name": "Krummholz",
            "Distribution": 0.009605070697220868,
            "Soil_Type": 29
           },
           {
            "Cover_Type_Name": "Lodgepole Pine",
            "Distribution": 0.07136579115499063,
            "Soil_Type": 29
           },
           {
            "Cover_Type_Name": "Ponderosa Pine",
            "Distribution": 0,
            "Soil_Type": 29
           },
           {
            "Cover_Type_Name": "Spruce/Fir",
            "Distribution": 0.03608383685800604,
            "Soil_Type": 29
           },
           {
            "Cover_Type_Name": "Aspen",
            "Distribution": 0.03255030022121563,
            "Soil_Type": 30
           },
           {
            "Cover_Type_Name": "Cottonwood/Willow",
            "Distribution": 0,
            "Soil_Type": 30
           },
           {
            "Cover_Type_Name": "Douglas-fir",
            "Distribution": 0.0036275695284159614,
            "Soil_Type": 30
           },
           {
            "Cover_Type_Name": "Krummholz",
            "Distribution": 0.010823988298391029,
            "Soil_Type": 30
           },
           {
            "Cover_Type_Name": "Lodgepole Pine",
            "Distribution": 0.046625320771899854,
            "Soil_Type": 30
           },
           {
            "Cover_Type_Name": "Ponderosa Pine",
            "Distribution": 0,
            "Soil_Type": 30
           },
           {
            "Cover_Type_Name": "Spruce/Fir",
            "Distribution": 0.05599981117824773,
            "Soil_Type": 30
           },
           {
            "Cover_Type_Name": "Aspen",
            "Distribution": 0.04845675761087117,
            "Soil_Type": 31
           },
           {
            "Cover_Type_Name": "Cottonwood/Willow",
            "Distribution": 0,
            "Soil_Type": 31
           },
           {
            "Cover_Type_Name": "Douglas-fir",
            "Distribution": 0.011516093741003052,
            "Soil_Type": 31
           },
           {
            "Cover_Type_Name": "Krummholz",
            "Distribution": 0.0409068746952706,
            "Soil_Type": 31
           },
           {
            "Cover_Type_Name": "Lodgepole Pine",
            "Distribution": 0.10432719969220017,
            "Soil_Type": 31
           },
           {
            "Cover_Type_Name": "Ponderosa Pine",
            "Distribution": 0.0029647032499860154,
            "Soil_Type": 31
           },
           {
            "Cover_Type_Name": "Spruce/Fir",
            "Distribution": 0.10082137462235649,
            "Soil_Type": 31
           },
           {
            "Cover_Type_Name": "Aspen",
            "Distribution": 0.05456652270093753,
            "Soil_Type": 32
           },
           {
            "Cover_Type_Name": "Cottonwood/Willow",
            "Distribution": 0,
            "Soil_Type": 32
           },
           {
            "Cover_Type_Name": "Douglas-fir",
            "Distribution": 0.031035872632003223,
            "Soil_Type": 32
           },
           {
            "Cover_Type_Name": "Krummholz",
            "Distribution": 0.031009263773768895,
            "Soil_Type": 32
           },
           {
            "Cover_Type_Name": "Lodgepole Pine",
            "Distribution": 0.08933254736128711,
            "Soil_Type": 32
           },
           {
            "Cover_Type_Name": "Ponderosa Pine",
            "Distribution": 0.00013984449292386866,
            "Soil_Type": 32
           },
           {
            "Cover_Type_Name": "Spruce/Fir",
            "Distribution": 0.08566842900302114,
            "Soil_Type": 32
           },
           {
            "Cover_Type_Name": "Aspen",
            "Distribution": 0.0021068155482987464,
            "Soil_Type": 33
           },
           {
            "Cover_Type_Name": "Cottonwood/Willow",
            "Distribution": 0,
            "Soil_Type": 33
           },
           {
            "Cover_Type_Name": "Douglas-fir",
            "Distribution": 0.0008637070305752289,
            "Soil_Type": 33
           },
           {
            "Cover_Type_Name": "Krummholz",
            "Distribution": 0.0024865919063871283,
            "Soil_Type": 33
           },
           {
            "Cover_Type_Name": "Lodgepole Pine",
            "Distribution": 0.005051164662320288,
            "Soil_Type": 33
           },
           {
            "Cover_Type_Name": "Ponderosa Pine",
            "Distribution": 0,
            "Soil_Type": 33
           },
           {
            "Cover_Type_Name": "Spruce/Fir",
            "Distribution": 0.0004437311178247734,
            "Soil_Type": 33
           },
           {
            "Cover_Type_Name": "Aspen",
            "Distribution": 0,
            "Soil_Type": 34
           },
           {
            "Cover_Type_Name": "Cottonwood/Willow",
            "Distribution": 0,
            "Soil_Type": 34
           },
           {
            "Cover_Type_Name": "Douglas-fir",
            "Distribution": 0,
            "Soil_Type": 34
           },
           {
            "Cover_Type_Name": "Krummholz",
            "Distribution": 0.0462213554363725,
            "Soil_Type": 34
           },
           {
            "Cover_Type_Name": "Lodgepole Pine",
            "Distribution": 4.2357774946082085e-05,
            "Soil_Type": 34
           },
           {
            "Cover_Type_Name": "Ponderosa Pine",
            "Distribution": 0,
            "Soil_Type": 34
           },
           {
            "Cover_Type_Name": "Spruce/Fir",
            "Distribution": 0.004394826283987916,
            "Soil_Type": 34
           },
           {
            "Cover_Type_Name": "Aspen",
            "Distribution": 0,
            "Soil_Type": 35
           },
           {
            "Cover_Type_Name": "Cottonwood/Willow",
            "Distribution": 0,
            "Soil_Type": 35
           },
           {
            "Cover_Type_Name": "Douglas-fir",
            "Distribution": 0,
            "Soil_Type": 35
           },
           {
            "Cover_Type_Name": "Krummholz",
            "Distribution": 0.0030716723549488053,
            "Soil_Type": 35
           },
           {
            "Cover_Type_Name": "Lodgepole Pine",
            "Distribution": 0.0001482522123112873,
            "Soil_Type": 35
           },
           {
            "Cover_Type_Name": "Ponderosa Pine",
            "Distribution": 0,
            "Soil_Type": 35
           },
           {
            "Cover_Type_Name": "Spruce/Fir",
            "Distribution": 6.608761329305136e-05,
            "Soil_Type": 35
           },
           {
            "Cover_Type_Name": "Aspen",
            "Distribution": 0,
            "Soil_Type": 36
           },
           {
            "Cover_Type_Name": "Cottonwood/Willow",
            "Distribution": 0,
            "Soil_Type": 36
           },
           {
            "Cover_Type_Name": "Douglas-fir",
            "Distribution": 0,
            "Soil_Type": 36
           },
           {
            "Cover_Type_Name": "Krummholz",
            "Distribution": 0.014529497805948317,
            "Soil_Type": 36
           },
           {
            "Cover_Type_Name": "Lodgepole Pine",
            "Distribution": 0,
            "Soil_Type": 36
           },
           {
            "Cover_Type_Name": "Ponderosa Pine",
            "Distribution": 0,
            "Soil_Type": 36
           },
           {
            "Cover_Type_Name": "Spruce/Fir",
            "Distribution": 0,
            "Soil_Type": 36
           },
           {
            "Cover_Type_Name": "Aspen",
            "Distribution": 0,
            "Soil_Type": 37
           },
           {
            "Cover_Type_Name": "Cottonwood/Willow",
            "Distribution": 0,
            "Soil_Type": 37
           },
           {
            "Cover_Type_Name": "Douglas-fir",
            "Distribution": 0,
            "Soil_Type": 37
           },
           {
            "Cover_Type_Name": "Krummholz",
            "Distribution": 0.2976109215017065,
            "Soil_Type": 37
           },
           {
            "Cover_Type_Name": "Lodgepole Pine",
            "Distribution": 0.0026120627883417283,
            "Soil_Type": 37
           },
           {
            "Cover_Type_Name": "Ponderosa Pine",
            "Distribution": 0,
            "Soil_Type": 37
           },
           {
            "Cover_Type_Name": "Spruce/Fir",
            "Distribution": 0.04120562688821752,
            "Soil_Type": 37
           },
           {
            "Cover_Type_Name": "Aspen",
            "Distribution": 0,
            "Soil_Type": 38
           },
           {
            "Cover_Type_Name": "Cottonwood/Willow",
            "Distribution": 0,
            "Soil_Type": 38
           },
           {
            "Cover_Type_Name": "Douglas-fir",
            "Distribution": 0,
            "Soil_Type": 38
           },
           {
            "Cover_Type_Name": "Krummholz",
            "Distribution": 0.2713798147245246,
            "Soil_Type": 38
           },
           {
            "Cover_Type_Name": "Lodgepole Pine",
            "Distribution": 0.0012636736192247822,
            "Soil_Type": 38
           },
           {
            "Cover_Type_Name": "Ponderosa Pine",
            "Distribution": 0,
            "Soil_Type": 38
           },
           {
            "Cover_Type_Name": "Spruce/Fir",
            "Distribution": 0.037207326283987915,
            "Soil_Type": 38
           },
           {
            "Cover_Type_Name": "Aspen",
            "Distribution": 0,
            "Soil_Type": 39
           },
           {
            "Cover_Type_Name": "Cottonwood/Willow",
            "Distribution": 0,
            "Soil_Type": 39
           },
           {
            "Cover_Type_Name": "Douglas-fir",
            "Distribution": 0,
            "Soil_Type": 39
           },
           {
            "Cover_Type_Name": "Krummholz",
            "Distribution": 0.17513408093612873,
            "Soil_Type": 39
           },
           {
            "Cover_Type_Name": "Lodgepole Pine",
            "Distribution": 0.0011718984401749375,
            "Soil_Type": 39
           },
           {
            "Cover_Type_Name": "Ponderosa Pine",
            "Distribution": 0,
            "Soil_Type": 39
           },
           {
            "Cover_Type_Name": "Spruce/Fir",
            "Distribution": 0.022781344410876134,
            "Soil_Type": 39
           }
          ]
         },
         "encoding": {
          "color": {
           "field": "Distribution",
           "type": "quantitative"
          },
          "tooltip": {
           "field": "Distribution",
           "type": "quantitative"
          },
          "x": {
           "field": "Soil_Type",
           "type": "nominal"
          },
          "y": {
           "field": "Cover_Type_Name",
           "type": "nominal"
          }
         },
         "mark": "rect"
        }
       ]
      },
      "image/png": "[encoded data removed]",
      "text/plain": [
       "<VegaLite 2 object>\n",
       "\n",
       "If you see this message, it means the renderer has not been properly enabled\n",
       "for the frontend that you are using. For more information, see\n",
       "https://altair-viz.github.io/user_guide/troubleshooting.html\n"
      ]
     },
     "execution_count": 41,
     "metadata": {},
     "output_type": "execute_result"
    }
   ],
   "source": [
    "group = covertype.groupby('Cover_Type_Name')\n",
    "soil_type = group[soil_type_features].sum()\n",
    "soil_type = DataFrame(soil_type.values, index=soil_type.index)\n",
    "\n",
    "cover_type_by_soil_type = soil_type.divide(soil_type.sum(axis=0), axis=1) # Cover type by soil type\n",
    "soil_type_by_cover_type = soil_type.divide(soil_type.sum(axis=1), axis=0) # Soil type by cover type\n",
    "\n",
    "def prepare_frame_for_charting(frame: DataFrame) -> DataFrame:\n",
    "    \"\"\"Prepare the given data frame for plotting\n",
    "    Args:\n",
    "        frame (DataFrame): \n",
    "    \n",
    "    Returns:\n",
    "        A DataFrame to be plotted\n",
    "    \"\"\"\n",
    "    return (\n",
    "        frame\n",
    "            .unstack()\n",
    "            .reset_index()\n",
    "            .rename(columns={'level_0': 'Soil_Type', 0: 'Distribution'})\n",
    "    )\n",
    "\n",
    "# Plot the data\n",
    "cover_type_by_soil_type_chart = (\n",
    "    alt\n",
    "        .Chart(prepare_frame_for_charting(cover_type_by_soil_type))\n",
    "        .mark_rect()\n",
    "        .encode(\n",
    "            x='Soil_Type:O',\n",
    "            y='Cover_Type_Name:O',\n",
    "            color='Distribution:Q',\n",
    "            tooltip='Distribution'\n",
    "        )\n",
    ")\n",
    "\n",
    "soil_type_by_cover_type_chart = (\n",
    "    alt\n",
    "        .Chart(prepare_frame_for_charting(soil_type_by_cover_type))\n",
    "        .mark_rect()\n",
    "        .encode(\n",
    "            x='Soil_Type:N',\n",
    "            y='Cover_Type_Name:N',\n",
    "            color='Distribution:Q',\n",
    "            tooltip='Distribution'\n",
    "        )\n",
    ")\n",
    "\n",
    "cover_type_by_soil_type_chart & soil_type_by_cover_type_chart"
   ]
  },
  {
   "cell_type": "markdown",
   "metadata": {},
   "source": [
    "## Sampling\n",
    "\n",
    "The cover types data set is small enough to easily be analysed in pandas but the size does introduce performance issues for data visualisation and model training.\n",
    "\n",
    "In this section I will attempt to extract a sample from the data set to aid with training performance and visualisation. In the modeling section below I will demostrate the accuracy of three models against the full data set and the sample created in this section. The sampling methodology I have chosen can be described as follows:\n",
    "\n",
    "    For a given sample size the data per class is either down sampled or up sampled. Therefore we can potentially combine an upsampling and downsampling approach based on the require sample size per class. \n",
    "    For example, suppose we wish to extract a sample of 5000 records per class. Any class with fewer than 5000 records will be upsampled while any class with more than 5000 records will be downsampled.\n",
    "\n",
    "The details of the latter can be seen in the `extract_sample` function below.\n",
    "\n",
    "For this case study I have chosen a sample size of 5000 records per class, therefore the data set will be reduced from 581,012 records to 35,000 (A reduction of approx. 94%)."
   ]
  },
  {
   "cell_type": "code",
   "execution_count": 57,
   "metadata": {},
   "outputs": [
    {
     "name": "stdout",
     "output_type": "stream",
     "text": [
      "Samples by cover type\n",
      "\n",
      "Krummholz             20510\n",
      "Aspen                  9493\n",
      "Cottonwood/Willow      2747\n",
      "Lodgepole Pine       283301\n",
      "Douglas-fir           17367\n",
      "Spruce/Fir           211840\n",
      "Ponderosa Pine        35754\n",
      "Name: Cover_Type_Name, dtype: int64\n",
      "\n",
      "Sample data set size:  35000\n"
     ]
    }
   ],
   "source": [
    "def extract_sample(n_samples: int) -> DataFrame:\n",
    "    \"\"\"Extracts a sample from the covertype DataFrame. \n",
    "    \n",
    "    Specifically this function splits the cover type DataFrame into a DataFrame\n",
    "    for each target value and then either up or down samples the data based on the value\n",
    "    of n_samples. If n_samples is less than the number of samples for the specified class\n",
    "    the data will be up sampled. If n_samples is more than the samples in the specified class\n",
    "    the data will be down sampled.\n",
    "    \n",
    "    Args:\n",
    "        n_samples (int): The number of samples to extract from the covertype DataFrame\n",
    "    \n",
    "    Returns:\n",
    "        A DataFrame sampled from the cover type DataFrame\n",
    "    \"\"\"\n",
    "    ctypes = covertype.Cover_Type.unique().tolist()\n",
    "\n",
    "    frames = []\n",
    "    for ctype in ctypes:\n",
    "        frame = covertype.loc[covertype.Cover_Type == ctype]\n",
    "\n",
    "        frames.append(\n",
    "            resample(\n",
    "                frame,\n",
    "                replace=len(frame) < n_samples,\n",
    "                n_samples=n_samples,\n",
    "                random_state=0\n",
    "            )\n",
    "        )\n",
    "\n",
    "    return pd.concat(frames)\n",
    "\n",
    "print(\"Samples by cover type\\n\")\n",
    "print(covertype.Cover_Type_Name.value_counts(sort=False))\n",
    "\n",
    "n_samples = 5000\n",
    "covertype_sampled = extract_sample(n_samples)\n",
    "\n",
    "print(\"\\nSample data set size: \", len(covertype_sampled))"
   ]
  },
  {
   "cell_type": "markdown",
   "metadata": {},
   "source": [
    "## Visualizing the Data\n",
    "\n",
    "Below I have attempted to decompose the data into 2 dimensions using principle component analysis. The results are plotted with a scatter chart and the class labels are encoded with a different colour. Given this it would appear the most suitable model should be able to draw complex decision boundaries."
   ]
  },
  {
   "cell_type": "code",
   "execution_count": 83,
   "metadata": {},
   "outputs": [],
   "source": [
    "X = covertype_sampled[features_names].values\n",
    "\n",
    "pca = PCA()\n",
    "X_pca_transformed = pca.fit_transform(X)"
   ]
  },
  {
   "cell_type": "code",
   "execution_count": 85,
   "metadata": {},
   "outputs": [
    {
     "data": {
      "image/png": "[encoded data removed]",
      "text/plain": [
       "<Figure size 360x360 with 1 Axes>"
      ]
     },
     "metadata": {},
     "output_type": "display_data"
    }
   ],
   "source": [
    "fig, ax = plt.subplots(figsize=(5, 5))\n",
    "\n",
    "ax.set_title('PCA transformed data')\n",
    "ax.set_xlabel('First principle component')\n",
    "ax.set_ylabel('Second principle component')\n",
    "\n",
    "for ctype in covertype_sampled.Cover_Type.unique():\n",
    "    mask = covertype_sampled.Cover_Type == ctype\n",
    "\n",
    "    ax.scatter(X_pca_transformed[mask, 0], X_pca_transformed[mask, 1])"
   ]
  },
  {
   "cell_type": "markdown",
   "metadata": {},
   "source": [
    "## Modeling\n",
    "\n",
    "For the classification I have decided to use the following models:\n",
    "\n",
    "1. Logistic Regression\n",
    "2. Random Forests\n",
    "3. Gradient Boosted Descision Tree\n",
    "\n",
    "For each of the above models I will assess the model accuracy on the full data set as well as the sampled data set."
   ]
  },
  {
   "cell_type": "markdown",
   "metadata": {},
   "source": [
    "## Logistic Regression\n",
    "\n",
    "Below I have created logistic regression model using scaled data with the scikit-learn StandarScaler. The model splits the data set with the `train_test_split` function using the default parameters. Given this the training set is quite large and the time to train is long. However the accuracy is not terrible and by examining the predicted classes we can see that the model has made predictions for all the classes and not only the majority classes identified above."
   ]
  },
  {
   "cell_type": "code",
   "execution_count": 120,
   "metadata": {},
   "outputs": [],
   "source": [
    "def evaluate(\n",
    "    clf: BaseEstimator,\n",
    "    X_train: np.ndarray,\n",
    "    X_test: np.ndarray,\n",
    "    y_train: np.ndarray,\n",
    "    y_test: np.ndarray\n",
    ") -> BaseEstimator:\n",
    "    \"\"\"Given an estimator train and assess the model accuracy\n",
    "    \n",
    "    Args:\n",
    "        clf (BaseEstimator): A sklean estimator\n",
    "        X_train (np.ndarray): The X train data set\n",
    "        X_test (np.ndarray): The X test data set\n",
    "        y_train (np.ndarray): The y train data set\n",
    "        y_test (np.ndarray): The y test data set\n",
    "    \n",
    "    Returns:\n",
    "        The trained classified\n",
    "    \"\"\"\n",
    "    start = time.time()\n",
    "    \n",
    "    clf.fit(X_train, y_train)\n",
    "    \n",
    "    y_pred = clf.predict(X_test)\n",
    "    y_pred_unique = np.unique(y_pred)\n",
    "    train_accuracy = clf.score(X_train, y_train)\n",
    "    test_accuracy = clf.score(X_test, y_test)\n",
    "    \n",
    "    runtime = time.time() - start\n",
    "    \n",
    "    print(\"Train accuracy:\", train_accuracy)\n",
    "    print(\"Test accuracy:\", test_accuracy)\n",
    "    print(\"Predicted classes:\", y_pred_unique)\n",
    "    print(\"Runtime:\", f\"{runtime:.0f} seconds\")\n",
    "    \n",
    "    return clf"
   ]
  },
  {
   "cell_type": "code",
   "execution_count": 122,
   "metadata": {},
   "outputs": [
    {
     "name": "stdout",
     "output_type": "stream",
     "text": [
      "Train accuracy: 0.7106015022064949\n",
      "Test accuracy: 0.7105120031944263\n",
      "Predicted classes: [1 2 3 4 5 6 7]\n",
      "Runtime: 117 seconds\n"
     ]
    }
   ],
   "source": [
    "y = covertype.Cover_Type.values\n",
    "X = covertype[features_names].values\n",
    "\n",
    "X_train, X_test, y_train, y_test = train_test_split(X, y, random_state=0)\n",
    "\n",
    "scaler = StandardScaler()\n",
    "\n",
    "X_train_scaled = scaler.fit_transform(X_train)\n",
    "X_test_scaled = scaler.transform(X_test)\n",
    "\n",
    "lr_full_data = evaluate(\n",
    "    LogisticRegression(random_state=0),\n",
    "    X_train,\n",
    "    X_test,\n",
    "    y_train,\n",
    "    y_test\n",
    ")"
   ]
  },
  {
   "cell_type": "code",
   "execution_count": 123,
   "metadata": {},
   "outputs": [
    {
     "data": {
      "image/png": "[encoded data removed]",
      "text/plain": [
       "<Figure size 864x288 with 2 Axes>"
      ]
     },
     "metadata": {},
     "output_type": "display_data"
    }
   ],
   "source": [
    "y_pred = model.predict(X_test)\n",
    "distribution = covertype.Cover_Type.value_counts(True, sort=False).values\n",
    "distribution_predicted = np.bincount(y_pred)[1:] / np.sum(np.bincount(y_pred)[1:])\n",
    "\n",
    "fig, (ax1, ax2) = plt.subplots(1, 2, figsize=(12, 4), sharey=True)\n",
    "\n",
    "ax1.bar(range(len(distribution)), distribution)\n",
    "ax2.bar(range(len(distribution_predicted)), distribution_predicted)\n",
    "\n",
    "ax1.set_title('Cover type distribution')\n",
    "ax2.set_title('Cover type distribution predicted')\n",
    "\n",
    "for spine in ['top', 'right']:\n",
    "    ax1.spines[spine].set_visible(False)\n",
    "    ax2.spines[spine].set_visible(False)\n",
    "    \n",
    "ax1.yaxis.set_major_formatter(pct_formatter)"
   ]
  },
  {
   "cell_type": "markdown",
   "metadata": {},
   "source": [
    "### Sampled Data"
   ]
  },
  {
   "cell_type": "code",
   "execution_count": 134,
   "metadata": {},
   "outputs": [
    {
     "name": "stdout",
     "output_type": "stream",
     "text": [
      "Train accuracy: 0.6683428571428571\n",
      "Test accuracy: 0.6690285714285714\n",
      "Predicted classes: [1 2 3 4 5 6 7]\n",
      "Runtime: 5 seconds\n"
     ]
    }
   ],
   "source": [
    "y = covertype_sampled.Cover_Type.values\n",
    "X = covertype_sampled[features_names].values\n",
    "\n",
    "X_train, X_test, y_train, y_test = train_test_split(X, y, random_state=0)\n",
    "\n",
    "scaler = StandardScaler()\n",
    "\n",
    "X_train_scaled = scaler.fit_transform(X_train)\n",
    "X_test_scaled = scaler.transform(X_test)\n",
    "\n",
    "lr_sample_data = evaluate(\n",
    "    LogisticRegression(random_state=0),\n",
    "    X_train,\n",
    "    X_test,\n",
    "    y_train,\n",
    "    y_test\n",
    ")"
   ]
  },
  {
   "cell_type": "code",
   "execution_count": 136,
   "metadata": {},
   "outputs": [
    {
     "name": "stdout",
     "output_type": "stream",
     "text": [
      "Train accuracy: 0.6694\n",
      "Test accuracy: 0.5322175000182247\n",
      "Predicted classes: [1 2 3 4 5 6 7]\n",
      "Runtime: 3 seconds\n"
     ]
    }
   ],
   "source": [
    "X_train = covertype_sampled[features_names].values\n",
    "y_train = covertype_sampled.Cover_Type.values\n",
    "\n",
    "X_test = covertype.loc[covertype.index.isin(covertype_sampled.index) == False, features_names].values\n",
    "y_test = covertype.loc[covertype.index.isin(covertype_sampled.index) == False, 'Cover_Type'].values\n",
    "\n",
    "scaler = StandardScaler()\n",
    "\n",
    "X_train_scaled = scaler.fit_transform(X_train)\n",
    "X_test_scaled = scaler.transform(X_test)\n",
    "\n",
    "lr_sample_data = evaluate(\n",
    "    LogisticRegression(random_state=0),\n",
    "    X_train,\n",
    "    X_test,\n",
    "    y_train,\n",
    "    y_test\n",
    ")"
   ]
  },
  {
   "cell_type": "markdown",
   "metadata": {},
   "source": [
    "## Random Forests"
   ]
  },
  {
   "cell_type": "code",
   "execution_count": 129,
   "metadata": {},
   "outputs": [
    {
     "name": "stdout",
     "output_type": "stream",
     "text": [
      "Train accuracy: 0.9977143329225558\n",
      "Test accuracy: 0.9400907382291588\n",
      "Predicted classes: [1 2 3 4 5 6 7]\n",
      "Runtime: 9 seconds\n"
     ]
    }
   ],
   "source": [
    "y = covertype.Cover_Type.values\n",
    "X = covertype[features_names].values\n",
    "\n",
    "X_train, X_test, y_train, y_test = train_test_split(X, y, random_state=0)\n",
    "\n",
    "rf_full_data = evaluate(\n",
    "    RandomForestClassifier(random_state=0, n_jobs=2),\n",
    "    X_train,\n",
    "    X_test,\n",
    "    y_train,\n",
    "    y_test\n",
    ")"
   ]
  },
  {
   "cell_type": "code",
   "execution_count": 138,
   "metadata": {},
   "outputs": [
    {
     "name": "stdout",
     "output_type": "stream",
     "text": [
      "Train accuracy: 0.9960285714285714\n",
      "Test accuracy: 0.7744702100206303\n",
      "Predicted classes: [1 2 3 4 5 6 7]\n",
      "Runtime: 2 seconds\n"
     ]
    }
   ],
   "source": [
    "X_train = covertype_sampled[features_names].values\n",
    "y_train = covertype_sampled.Cover_Type.values\n",
    "\n",
    "X_test = covertype.loc[covertype.index.isin(covertype_sampled.index) == False, features_names].values\n",
    "y_test = covertype.loc[covertype.index.isin(covertype_sampled.index) == False, 'Cover_Type'].values\n",
    "\n",
    "rf_sample_data = evaluate(\n",
    "    RandomForestClassifier(random_state=0, n_jobs=2),\n",
    "    X_train,\n",
    "    X_test,\n",
    "    y_train,\n",
    "    y_test\n",
    ")"
   ]
  },
  {
   "cell_type": "markdown",
   "metadata": {},
   "source": [
    "## Gradient Boosted Tree"
   ]
  },
  {
   "cell_type": "code",
   "execution_count": null,
   "metadata": {},
   "outputs": [],
   "source": [
    "X_train = covertype_sampled[features_names].values\n",
    "y_train = covertype_sampled.Cover_Type.values\n",
    "\n",
    "X_test = covertype.loc[covertype.index.isin(covertype_sampled.index) == False, features_names].values\n",
    "y_test = covertype.loc[covertype.index.isin(covertype_sampled.index) == False, 'Cover_Type'].values\n",
    "\n",
    "rf_sample_data = evaluate(\n",
    "    GradientBoostingClassifier(random_state=0, max_depth=5, learning_rate=0.5),\n",
    "    X_train,\n",
    "    X_test,\n",
    "    y_train,\n",
    "    y_test\n",
    ")"
   ]
  }
 ],
 "metadata": {
  "kernelspec": {
   "display_name": "Python 3",
   "language": "python",
   "name": "python3"
  },
  "language_info": {
   "codemirror_mode": {
    "name": "ipython",
    "version": 3
   },
   "file_extension": ".py",
   "mimetype": "text/x-python",
   "name": "python",
   "nbconvert_exporter": "python",
   "pygments_lexer": "ipython3",
   "version": "3.6.5"
  }
 },
 "nbformat": 4,
 "nbformat_minor": 2
}
